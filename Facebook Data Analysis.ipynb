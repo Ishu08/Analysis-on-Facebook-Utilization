{
  "nbformat": 4,
  "nbformat_minor": 0,
  "metadata": {
    "colab": {
      "name": "ishu892k1@gmail.com",
      "provenance": [],
      "collapsed_sections": []
    },
    "kernelspec": {
      "name": "python3",
      "display_name": "Python 3"
    },
    "widgets": {
      "application/vnd.jupyter.widget-state+json": {
        "09cc64625bdb49318904ecde07e5043b": {
          "model_module": "@jupyter-widgets/controls",
          "model_name": "HBoxModel",
          "model_module_version": "1.5.0",
          "state": {
            "_view_name": "HBoxView",
            "_dom_classes": [],
            "_model_name": "HBoxModel",
            "_view_module": "@jupyter-widgets/controls",
            "_model_module_version": "1.5.0",
            "_view_count": null,
            "_view_module_version": "1.5.0",
            "box_style": "",
            "layout": "IPY_MODEL_12adacdd382e448b97ccebed060de7f6",
            "_model_module": "@jupyter-widgets/controls",
            "children": [
              "IPY_MODEL_5d19ea5a468e42258f95a1e6e9630688",
              "IPY_MODEL_a3177752b4214abd8adaf9b7e4e92de2",
              "IPY_MODEL_52f915a551634c7abd24e134b374d8de"
            ]
          }
        },
        "12adacdd382e448b97ccebed060de7f6": {
          "model_module": "@jupyter-widgets/base",
          "model_name": "LayoutModel",
          "model_module_version": "1.2.0",
          "state": {
            "_view_name": "LayoutView",
            "grid_template_rows": null,
            "right": null,
            "justify_content": null,
            "_view_module": "@jupyter-widgets/base",
            "overflow": null,
            "_model_module_version": "1.2.0",
            "_view_count": null,
            "flex_flow": null,
            "width": null,
            "min_width": null,
            "border": null,
            "align_items": null,
            "bottom": null,
            "_model_module": "@jupyter-widgets/base",
            "top": null,
            "grid_column": null,
            "overflow_y": null,
            "overflow_x": null,
            "grid_auto_flow": null,
            "grid_area": null,
            "grid_template_columns": null,
            "flex": null,
            "_model_name": "LayoutModel",
            "justify_items": null,
            "grid_row": null,
            "max_height": null,
            "align_content": null,
            "visibility": null,
            "align_self": null,
            "height": null,
            "min_height": null,
            "padding": null,
            "grid_auto_rows": null,
            "grid_gap": null,
            "max_width": null,
            "order": null,
            "_view_module_version": "1.2.0",
            "grid_template_areas": null,
            "object_position": null,
            "object_fit": null,
            "grid_auto_columns": null,
            "margin": null,
            "display": null,
            "left": null
          }
        },
        "5d19ea5a468e42258f95a1e6e9630688": {
          "model_module": "@jupyter-widgets/controls",
          "model_name": "HTMLModel",
          "model_module_version": "1.5.0",
          "state": {
            "_view_name": "HTMLView",
            "style": "IPY_MODEL_fe2cc7e1a5e24250ad28e3a70a14af5f",
            "_dom_classes": [],
            "description": "",
            "_model_name": "HTMLModel",
            "placeholder": "​",
            "_view_module": "@jupyter-widgets/controls",
            "_model_module_version": "1.5.0",
            "value": "Summarize dataset: 100%",
            "_view_count": null,
            "_view_module_version": "1.5.0",
            "description_tooltip": null,
            "_model_module": "@jupyter-widgets/controls",
            "layout": "IPY_MODEL_79032ac14e0b4613821f2c1fed172026"
          }
        },
        "a3177752b4214abd8adaf9b7e4e92de2": {
          "model_module": "@jupyter-widgets/controls",
          "model_name": "FloatProgressModel",
          "model_module_version": "1.5.0",
          "state": {
            "_view_name": "ProgressView",
            "style": "IPY_MODEL_0bb78b79c8e745a8a12615fd087e636d",
            "_dom_classes": [],
            "description": "",
            "_model_name": "FloatProgressModel",
            "bar_style": "success",
            "max": 5,
            "_view_module": "@jupyter-widgets/controls",
            "_model_module_version": "1.5.0",
            "value": 5,
            "_view_count": null,
            "_view_module_version": "1.5.0",
            "orientation": "horizontal",
            "min": 0,
            "description_tooltip": null,
            "_model_module": "@jupyter-widgets/controls",
            "layout": "IPY_MODEL_ad76ce1d1ab846a09ec078dc7e16af3a"
          }
        },
        "52f915a551634c7abd24e134b374d8de": {
          "model_module": "@jupyter-widgets/controls",
          "model_name": "HTMLModel",
          "model_module_version": "1.5.0",
          "state": {
            "_view_name": "HTMLView",
            "style": "IPY_MODEL_b8b6e0e1f76947529f9eb610c58972d9",
            "_dom_classes": [],
            "description": "",
            "_model_name": "HTMLModel",
            "placeholder": "​",
            "_view_module": "@jupyter-widgets/controls",
            "_model_module_version": "1.5.0",
            "value": " 226/226 [00:53&lt;00:00,  6.57it/s, Completed]",
            "_view_count": null,
            "_view_module_version": "1.5.0",
            "description_tooltip": null,
            "_model_module": "@jupyter-widgets/controls",
            "layout": "IPY_MODEL_663bdb9b285f4cac9c8021e79c65d5e2"
          }
        },
        "fe2cc7e1a5e24250ad28e3a70a14af5f": {
          "model_module": "@jupyter-widgets/controls",
          "model_name": "DescriptionStyleModel",
          "model_module_version": "1.5.0",
          "state": {
            "_view_name": "StyleView",
            "_model_name": "DescriptionStyleModel",
            "description_width": "",
            "_view_module": "@jupyter-widgets/base",
            "_model_module_version": "1.5.0",
            "_view_count": null,
            "_view_module_version": "1.2.0",
            "_model_module": "@jupyter-widgets/controls"
          }
        },
        "79032ac14e0b4613821f2c1fed172026": {
          "model_module": "@jupyter-widgets/base",
          "model_name": "LayoutModel",
          "model_module_version": "1.2.0",
          "state": {
            "_view_name": "LayoutView",
            "grid_template_rows": null,
            "right": null,
            "justify_content": null,
            "_view_module": "@jupyter-widgets/base",
            "overflow": null,
            "_model_module_version": "1.2.0",
            "_view_count": null,
            "flex_flow": null,
            "width": null,
            "min_width": null,
            "border": null,
            "align_items": null,
            "bottom": null,
            "_model_module": "@jupyter-widgets/base",
            "top": null,
            "grid_column": null,
            "overflow_y": null,
            "overflow_x": null,
            "grid_auto_flow": null,
            "grid_area": null,
            "grid_template_columns": null,
            "flex": null,
            "_model_name": "LayoutModel",
            "justify_items": null,
            "grid_row": null,
            "max_height": null,
            "align_content": null,
            "visibility": null,
            "align_self": null,
            "height": null,
            "min_height": null,
            "padding": null,
            "grid_auto_rows": null,
            "grid_gap": null,
            "max_width": null,
            "order": null,
            "_view_module_version": "1.2.0",
            "grid_template_areas": null,
            "object_position": null,
            "object_fit": null,
            "grid_auto_columns": null,
            "margin": null,
            "display": null,
            "left": null
          }
        },
        "0bb78b79c8e745a8a12615fd087e636d": {
          "model_module": "@jupyter-widgets/controls",
          "model_name": "ProgressStyleModel",
          "model_module_version": "1.5.0",
          "state": {
            "_view_name": "StyleView",
            "_model_name": "ProgressStyleModel",
            "description_width": "",
            "_view_module": "@jupyter-widgets/base",
            "_model_module_version": "1.5.0",
            "_view_count": null,
            "_view_module_version": "1.2.0",
            "bar_color": null,
            "_model_module": "@jupyter-widgets/controls"
          }
        },
        "ad76ce1d1ab846a09ec078dc7e16af3a": {
          "model_module": "@jupyter-widgets/base",
          "model_name": "LayoutModel",
          "model_module_version": "1.2.0",
          "state": {
            "_view_name": "LayoutView",
            "grid_template_rows": null,
            "right": null,
            "justify_content": null,
            "_view_module": "@jupyter-widgets/base",
            "overflow": null,
            "_model_module_version": "1.2.0",
            "_view_count": null,
            "flex_flow": null,
            "width": null,
            "min_width": null,
            "border": null,
            "align_items": null,
            "bottom": null,
            "_model_module": "@jupyter-widgets/base",
            "top": null,
            "grid_column": null,
            "overflow_y": null,
            "overflow_x": null,
            "grid_auto_flow": null,
            "grid_area": null,
            "grid_template_columns": null,
            "flex": null,
            "_model_name": "LayoutModel",
            "justify_items": null,
            "grid_row": null,
            "max_height": null,
            "align_content": null,
            "visibility": null,
            "align_self": null,
            "height": null,
            "min_height": null,
            "padding": null,
            "grid_auto_rows": null,
            "grid_gap": null,
            "max_width": null,
            "order": null,
            "_view_module_version": "1.2.0",
            "grid_template_areas": null,
            "object_position": null,
            "object_fit": null,
            "grid_auto_columns": null,
            "margin": null,
            "display": null,
            "left": null
          }
        },
        "b8b6e0e1f76947529f9eb610c58972d9": {
          "model_module": "@jupyter-widgets/controls",
          "model_name": "DescriptionStyleModel",
          "model_module_version": "1.5.0",
          "state": {
            "_view_name": "StyleView",
            "_model_name": "DescriptionStyleModel",
            "description_width": "",
            "_view_module": "@jupyter-widgets/base",
            "_model_module_version": "1.5.0",
            "_view_count": null,
            "_view_module_version": "1.2.0",
            "_model_module": "@jupyter-widgets/controls"
          }
        },
        "663bdb9b285f4cac9c8021e79c65d5e2": {
          "model_module": "@jupyter-widgets/base",
          "model_name": "LayoutModel",
          "model_module_version": "1.2.0",
          "state": {
            "_view_name": "LayoutView",
            "grid_template_rows": null,
            "right": null,
            "justify_content": null,
            "_view_module": "@jupyter-widgets/base",
            "overflow": null,
            "_model_module_version": "1.2.0",
            "_view_count": null,
            "flex_flow": null,
            "width": null,
            "min_width": null,
            "border": null,
            "align_items": null,
            "bottom": null,
            "_model_module": "@jupyter-widgets/base",
            "top": null,
            "grid_column": null,
            "overflow_y": null,
            "overflow_x": null,
            "grid_auto_flow": null,
            "grid_area": null,
            "grid_template_columns": null,
            "flex": null,
            "_model_name": "LayoutModel",
            "justify_items": null,
            "grid_row": null,
            "max_height": null,
            "align_content": null,
            "visibility": null,
            "align_self": null,
            "height": null,
            "min_height": null,
            "padding": null,
            "grid_auto_rows": null,
            "grid_gap": null,
            "max_width": null,
            "order": null,
            "_view_module_version": "1.2.0",
            "grid_template_areas": null,
            "object_position": null,
            "object_fit": null,
            "grid_auto_columns": null,
            "margin": null,
            "display": null,
            "left": null
          }
        },
        "53c1122108214660a84296bd85dbd536": {
          "model_module": "@jupyter-widgets/controls",
          "model_name": "HBoxModel",
          "model_module_version": "1.5.0",
          "state": {
            "_view_name": "HBoxView",
            "_dom_classes": [],
            "_model_name": "HBoxModel",
            "_view_module": "@jupyter-widgets/controls",
            "_model_module_version": "1.5.0",
            "_view_count": null,
            "_view_module_version": "1.5.0",
            "box_style": "",
            "layout": "IPY_MODEL_df8127f7f3874f48a9b47235d8b761b9",
            "_model_module": "@jupyter-widgets/controls",
            "children": [
              "IPY_MODEL_f04cbc1e270c4c6ca4bb4c4e0a3096b6",
              "IPY_MODEL_d6cdea669e174c40bc1a21dd1a6a0010",
              "IPY_MODEL_762ce56aa6c7489d81a3f3c6ccac80c5"
            ]
          }
        },
        "df8127f7f3874f48a9b47235d8b761b9": {
          "model_module": "@jupyter-widgets/base",
          "model_name": "LayoutModel",
          "model_module_version": "1.2.0",
          "state": {
            "_view_name": "LayoutView",
            "grid_template_rows": null,
            "right": null,
            "justify_content": null,
            "_view_module": "@jupyter-widgets/base",
            "overflow": null,
            "_model_module_version": "1.2.0",
            "_view_count": null,
            "flex_flow": null,
            "width": null,
            "min_width": null,
            "border": null,
            "align_items": null,
            "bottom": null,
            "_model_module": "@jupyter-widgets/base",
            "top": null,
            "grid_column": null,
            "overflow_y": null,
            "overflow_x": null,
            "grid_auto_flow": null,
            "grid_area": null,
            "grid_template_columns": null,
            "flex": null,
            "_model_name": "LayoutModel",
            "justify_items": null,
            "grid_row": null,
            "max_height": null,
            "align_content": null,
            "visibility": null,
            "align_self": null,
            "height": null,
            "min_height": null,
            "padding": null,
            "grid_auto_rows": null,
            "grid_gap": null,
            "max_width": null,
            "order": null,
            "_view_module_version": "1.2.0",
            "grid_template_areas": null,
            "object_position": null,
            "object_fit": null,
            "grid_auto_columns": null,
            "margin": null,
            "display": null,
            "left": null
          }
        },
        "f04cbc1e270c4c6ca4bb4c4e0a3096b6": {
          "model_module": "@jupyter-widgets/controls",
          "model_name": "HTMLModel",
          "model_module_version": "1.5.0",
          "state": {
            "_view_name": "HTMLView",
            "style": "IPY_MODEL_8951961e4e2c4870bc4ac1902ffce57a",
            "_dom_classes": [],
            "description": "",
            "_model_name": "HTMLModel",
            "placeholder": "​",
            "_view_module": "@jupyter-widgets/controls",
            "_model_module_version": "1.5.0",
            "value": "Generate report structure: 100%",
            "_view_count": null,
            "_view_module_version": "1.5.0",
            "description_tooltip": null,
            "_model_module": "@jupyter-widgets/controls",
            "layout": "IPY_MODEL_cbec3d81d08a49c0a845f701fd03c198"
          }
        },
        "d6cdea669e174c40bc1a21dd1a6a0010": {
          "model_module": "@jupyter-widgets/controls",
          "model_name": "FloatProgressModel",
          "model_module_version": "1.5.0",
          "state": {
            "_view_name": "ProgressView",
            "style": "IPY_MODEL_64145676604b47dc86b6e24e970e56bc",
            "_dom_classes": [],
            "description": "",
            "_model_name": "FloatProgressModel",
            "bar_style": "success",
            "max": 1,
            "_view_module": "@jupyter-widgets/controls",
            "_model_module_version": "1.5.0",
            "value": 1,
            "_view_count": null,
            "_view_module_version": "1.5.0",
            "orientation": "horizontal",
            "min": 0,
            "description_tooltip": null,
            "_model_module": "@jupyter-widgets/controls",
            "layout": "IPY_MODEL_f0bdcdf0fc414254af8d0c31971b5cd3"
          }
        },
        "762ce56aa6c7489d81a3f3c6ccac80c5": {
          "model_module": "@jupyter-widgets/controls",
          "model_name": "HTMLModel",
          "model_module_version": "1.5.0",
          "state": {
            "_view_name": "HTMLView",
            "style": "IPY_MODEL_70e19e9d34cd4ca48544c7f34263c58f",
            "_dom_classes": [],
            "description": "",
            "_model_name": "HTMLModel",
            "placeholder": "​",
            "_view_module": "@jupyter-widgets/controls",
            "_model_module_version": "1.5.0",
            "value": " 1/1 [00:09&lt;00:00,  9.00s/it]",
            "_view_count": null,
            "_view_module_version": "1.5.0",
            "description_tooltip": null,
            "_model_module": "@jupyter-widgets/controls",
            "layout": "IPY_MODEL_69e63891392a4e60948bffe78dc37ffd"
          }
        },
        "8951961e4e2c4870bc4ac1902ffce57a": {
          "model_module": "@jupyter-widgets/controls",
          "model_name": "DescriptionStyleModel",
          "model_module_version": "1.5.0",
          "state": {
            "_view_name": "StyleView",
            "_model_name": "DescriptionStyleModel",
            "description_width": "",
            "_view_module": "@jupyter-widgets/base",
            "_model_module_version": "1.5.0",
            "_view_count": null,
            "_view_module_version": "1.2.0",
            "_model_module": "@jupyter-widgets/controls"
          }
        },
        "cbec3d81d08a49c0a845f701fd03c198": {
          "model_module": "@jupyter-widgets/base",
          "model_name": "LayoutModel",
          "model_module_version": "1.2.0",
          "state": {
            "_view_name": "LayoutView",
            "grid_template_rows": null,
            "right": null,
            "justify_content": null,
            "_view_module": "@jupyter-widgets/base",
            "overflow": null,
            "_model_module_version": "1.2.0",
            "_view_count": null,
            "flex_flow": null,
            "width": null,
            "min_width": null,
            "border": null,
            "align_items": null,
            "bottom": null,
            "_model_module": "@jupyter-widgets/base",
            "top": null,
            "grid_column": null,
            "overflow_y": null,
            "overflow_x": null,
            "grid_auto_flow": null,
            "grid_area": null,
            "grid_template_columns": null,
            "flex": null,
            "_model_name": "LayoutModel",
            "justify_items": null,
            "grid_row": null,
            "max_height": null,
            "align_content": null,
            "visibility": null,
            "align_self": null,
            "height": null,
            "min_height": null,
            "padding": null,
            "grid_auto_rows": null,
            "grid_gap": null,
            "max_width": null,
            "order": null,
            "_view_module_version": "1.2.0",
            "grid_template_areas": null,
            "object_position": null,
            "object_fit": null,
            "grid_auto_columns": null,
            "margin": null,
            "display": null,
            "left": null
          }
        },
        "64145676604b47dc86b6e24e970e56bc": {
          "model_module": "@jupyter-widgets/controls",
          "model_name": "ProgressStyleModel",
          "model_module_version": "1.5.0",
          "state": {
            "_view_name": "StyleView",
            "_model_name": "ProgressStyleModel",
            "description_width": "",
            "_view_module": "@jupyter-widgets/base",
            "_model_module_version": "1.5.0",
            "_view_count": null,
            "_view_module_version": "1.2.0",
            "bar_color": null,
            "_model_module": "@jupyter-widgets/controls"
          }
        },
        "f0bdcdf0fc414254af8d0c31971b5cd3": {
          "model_module": "@jupyter-widgets/base",
          "model_name": "LayoutModel",
          "model_module_version": "1.2.0",
          "state": {
            "_view_name": "LayoutView",
            "grid_template_rows": null,
            "right": null,
            "justify_content": null,
            "_view_module": "@jupyter-widgets/base",
            "overflow": null,
            "_model_module_version": "1.2.0",
            "_view_count": null,
            "flex_flow": null,
            "width": null,
            "min_width": null,
            "border": null,
            "align_items": null,
            "bottom": null,
            "_model_module": "@jupyter-widgets/base",
            "top": null,
            "grid_column": null,
            "overflow_y": null,
            "overflow_x": null,
            "grid_auto_flow": null,
            "grid_area": null,
            "grid_template_columns": null,
            "flex": null,
            "_model_name": "LayoutModel",
            "justify_items": null,
            "grid_row": null,
            "max_height": null,
            "align_content": null,
            "visibility": null,
            "align_self": null,
            "height": null,
            "min_height": null,
            "padding": null,
            "grid_auto_rows": null,
            "grid_gap": null,
            "max_width": null,
            "order": null,
            "_view_module_version": "1.2.0",
            "grid_template_areas": null,
            "object_position": null,
            "object_fit": null,
            "grid_auto_columns": null,
            "margin": null,
            "display": null,
            "left": null
          }
        },
        "70e19e9d34cd4ca48544c7f34263c58f": {
          "model_module": "@jupyter-widgets/controls",
          "model_name": "DescriptionStyleModel",
          "model_module_version": "1.5.0",
          "state": {
            "_view_name": "StyleView",
            "_model_name": "DescriptionStyleModel",
            "description_width": "",
            "_view_module": "@jupyter-widgets/base",
            "_model_module_version": "1.5.0",
            "_view_count": null,
            "_view_module_version": "1.2.0",
            "_model_module": "@jupyter-widgets/controls"
          }
        },
        "69e63891392a4e60948bffe78dc37ffd": {
          "model_module": "@jupyter-widgets/base",
          "model_name": "LayoutModel",
          "model_module_version": "1.2.0",
          "state": {
            "_view_name": "LayoutView",
            "grid_template_rows": null,
            "right": null,
            "justify_content": null,
            "_view_module": "@jupyter-widgets/base",
            "overflow": null,
            "_model_module_version": "1.2.0",
            "_view_count": null,
            "flex_flow": null,
            "width": null,
            "min_width": null,
            "border": null,
            "align_items": null,
            "bottom": null,
            "_model_module": "@jupyter-widgets/base",
            "top": null,
            "grid_column": null,
            "overflow_y": null,
            "overflow_x": null,
            "grid_auto_flow": null,
            "grid_area": null,
            "grid_template_columns": null,
            "flex": null,
            "_model_name": "LayoutModel",
            "justify_items": null,
            "grid_row": null,
            "max_height": null,
            "align_content": null,
            "visibility": null,
            "align_self": null,
            "height": null,
            "min_height": null,
            "padding": null,
            "grid_auto_rows": null,
            "grid_gap": null,
            "max_width": null,
            "order": null,
            "_view_module_version": "1.2.0",
            "grid_template_areas": null,
            "object_position": null,
            "object_fit": null,
            "grid_auto_columns": null,
            "margin": null,
            "display": null,
            "left": null
          }
        },
        "06e520fa03b04bea82e94e6d7f3f8adb": {
          "model_module": "@jupyter-widgets/controls",
          "model_name": "HBoxModel",
          "model_module_version": "1.5.0",
          "state": {
            "_view_name": "HBoxView",
            "_dom_classes": [],
            "_model_name": "HBoxModel",
            "_view_module": "@jupyter-widgets/controls",
            "_model_module_version": "1.5.0",
            "_view_count": null,
            "_view_module_version": "1.5.0",
            "box_style": "",
            "layout": "IPY_MODEL_b2bf1c8278614f83ae4cfa28d40ae8a2",
            "_model_module": "@jupyter-widgets/controls",
            "children": [
              "IPY_MODEL_3695baa9cddf4e178319aaf78740c43d",
              "IPY_MODEL_86027e1351094276bbdaa5dc5ea0c593",
              "IPY_MODEL_594ebed1b37c4b45bdf9c6b6bed61e6a"
            ]
          }
        },
        "b2bf1c8278614f83ae4cfa28d40ae8a2": {
          "model_module": "@jupyter-widgets/base",
          "model_name": "LayoutModel",
          "model_module_version": "1.2.0",
          "state": {
            "_view_name": "LayoutView",
            "grid_template_rows": null,
            "right": null,
            "justify_content": null,
            "_view_module": "@jupyter-widgets/base",
            "overflow": null,
            "_model_module_version": "1.2.0",
            "_view_count": null,
            "flex_flow": null,
            "width": null,
            "min_width": null,
            "border": null,
            "align_items": null,
            "bottom": null,
            "_model_module": "@jupyter-widgets/base",
            "top": null,
            "grid_column": null,
            "overflow_y": null,
            "overflow_x": null,
            "grid_auto_flow": null,
            "grid_area": null,
            "grid_template_columns": null,
            "flex": null,
            "_model_name": "LayoutModel",
            "justify_items": null,
            "grid_row": null,
            "max_height": null,
            "align_content": null,
            "visibility": null,
            "align_self": null,
            "height": null,
            "min_height": null,
            "padding": null,
            "grid_auto_rows": null,
            "grid_gap": null,
            "max_width": null,
            "order": null,
            "_view_module_version": "1.2.0",
            "grid_template_areas": null,
            "object_position": null,
            "object_fit": null,
            "grid_auto_columns": null,
            "margin": null,
            "display": null,
            "left": null
          }
        },
        "3695baa9cddf4e178319aaf78740c43d": {
          "model_module": "@jupyter-widgets/controls",
          "model_name": "HTMLModel",
          "model_module_version": "1.5.0",
          "state": {
            "_view_name": "HTMLView",
            "style": "IPY_MODEL_f877ba7595304e3f8411c5587bc378d4",
            "_dom_classes": [],
            "description": "",
            "_model_name": "HTMLModel",
            "placeholder": "​",
            "_view_module": "@jupyter-widgets/controls",
            "_model_module_version": "1.5.0",
            "value": "Render HTML: 100%",
            "_view_count": null,
            "_view_module_version": "1.5.0",
            "description_tooltip": null,
            "_model_module": "@jupyter-widgets/controls",
            "layout": "IPY_MODEL_7c80684088d54f5b9f671f559233fd8a"
          }
        },
        "86027e1351094276bbdaa5dc5ea0c593": {
          "model_module": "@jupyter-widgets/controls",
          "model_name": "FloatProgressModel",
          "model_module_version": "1.5.0",
          "state": {
            "_view_name": "ProgressView",
            "style": "IPY_MODEL_e875f4aa9c2a488fbd1af47013685049",
            "_dom_classes": [],
            "description": "",
            "_model_name": "FloatProgressModel",
            "bar_style": "success",
            "max": 1,
            "_view_module": "@jupyter-widgets/controls",
            "_model_module_version": "1.5.0",
            "value": 1,
            "_view_count": null,
            "_view_module_version": "1.5.0",
            "orientation": "horizontal",
            "min": 0,
            "description_tooltip": null,
            "_model_module": "@jupyter-widgets/controls",
            "layout": "IPY_MODEL_7bce2d8660dc4b82bacda48d2d5b3129"
          }
        },
        "594ebed1b37c4b45bdf9c6b6bed61e6a": {
          "model_module": "@jupyter-widgets/controls",
          "model_name": "HTMLModel",
          "model_module_version": "1.5.0",
          "state": {
            "_view_name": "HTMLView",
            "style": "IPY_MODEL_f729d03f3eea4d7bb157fb85e64fc68f",
            "_dom_classes": [],
            "description": "",
            "_model_name": "HTMLModel",
            "placeholder": "​",
            "_view_module": "@jupyter-widgets/controls",
            "_model_module_version": "1.5.0",
            "value": " 1/1 [00:07&lt;00:00,  7.31s/it]",
            "_view_count": null,
            "_view_module_version": "1.5.0",
            "description_tooltip": null,
            "_model_module": "@jupyter-widgets/controls",
            "layout": "IPY_MODEL_cf16a6d33260475ebf3b0e44bc6934e7"
          }
        },
        "f877ba7595304e3f8411c5587bc378d4": {
          "model_module": "@jupyter-widgets/controls",
          "model_name": "DescriptionStyleModel",
          "model_module_version": "1.5.0",
          "state": {
            "_view_name": "StyleView",
            "_model_name": "DescriptionStyleModel",
            "description_width": "",
            "_view_module": "@jupyter-widgets/base",
            "_model_module_version": "1.5.0",
            "_view_count": null,
            "_view_module_version": "1.2.0",
            "_model_module": "@jupyter-widgets/controls"
          }
        },
        "7c80684088d54f5b9f671f559233fd8a": {
          "model_module": "@jupyter-widgets/base",
          "model_name": "LayoutModel",
          "model_module_version": "1.2.0",
          "state": {
            "_view_name": "LayoutView",
            "grid_template_rows": null,
            "right": null,
            "justify_content": null,
            "_view_module": "@jupyter-widgets/base",
            "overflow": null,
            "_model_module_version": "1.2.0",
            "_view_count": null,
            "flex_flow": null,
            "width": null,
            "min_width": null,
            "border": null,
            "align_items": null,
            "bottom": null,
            "_model_module": "@jupyter-widgets/base",
            "top": null,
            "grid_column": null,
            "overflow_y": null,
            "overflow_x": null,
            "grid_auto_flow": null,
            "grid_area": null,
            "grid_template_columns": null,
            "flex": null,
            "_model_name": "LayoutModel",
            "justify_items": null,
            "grid_row": null,
            "max_height": null,
            "align_content": null,
            "visibility": null,
            "align_self": null,
            "height": null,
            "min_height": null,
            "padding": null,
            "grid_auto_rows": null,
            "grid_gap": null,
            "max_width": null,
            "order": null,
            "_view_module_version": "1.2.0",
            "grid_template_areas": null,
            "object_position": null,
            "object_fit": null,
            "grid_auto_columns": null,
            "margin": null,
            "display": null,
            "left": null
          }
        },
        "e875f4aa9c2a488fbd1af47013685049": {
          "model_module": "@jupyter-widgets/controls",
          "model_name": "ProgressStyleModel",
          "model_module_version": "1.5.0",
          "state": {
            "_view_name": "StyleView",
            "_model_name": "ProgressStyleModel",
            "description_width": "",
            "_view_module": "@jupyter-widgets/base",
            "_model_module_version": "1.5.0",
            "_view_count": null,
            "_view_module_version": "1.2.0",
            "bar_color": null,
            "_model_module": "@jupyter-widgets/controls"
          }
        },
        "7bce2d8660dc4b82bacda48d2d5b3129": {
          "model_module": "@jupyter-widgets/base",
          "model_name": "LayoutModel",
          "model_module_version": "1.2.0",
          "state": {
            "_view_name": "LayoutView",
            "grid_template_rows": null,
            "right": null,
            "justify_content": null,
            "_view_module": "@jupyter-widgets/base",
            "overflow": null,
            "_model_module_version": "1.2.0",
            "_view_count": null,
            "flex_flow": null,
            "width": null,
            "min_width": null,
            "border": null,
            "align_items": null,
            "bottom": null,
            "_model_module": "@jupyter-widgets/base",
            "top": null,
            "grid_column": null,
            "overflow_y": null,
            "overflow_x": null,
            "grid_auto_flow": null,
            "grid_area": null,
            "grid_template_columns": null,
            "flex": null,
            "_model_name": "LayoutModel",
            "justify_items": null,
            "grid_row": null,
            "max_height": null,
            "align_content": null,
            "visibility": null,
            "align_self": null,
            "height": null,
            "min_height": null,
            "padding": null,
            "grid_auto_rows": null,
            "grid_gap": null,
            "max_width": null,
            "order": null,
            "_view_module_version": "1.2.0",
            "grid_template_areas": null,
            "object_position": null,
            "object_fit": null,
            "grid_auto_columns": null,
            "margin": null,
            "display": null,
            "left": null
          }
        },
        "f729d03f3eea4d7bb157fb85e64fc68f": {
          "model_module": "@jupyter-widgets/controls",
          "model_name": "DescriptionStyleModel",
          "model_module_version": "1.5.0",
          "state": {
            "_view_name": "StyleView",
            "_model_name": "DescriptionStyleModel",
            "description_width": "",
            "_view_module": "@jupyter-widgets/base",
            "_model_module_version": "1.5.0",
            "_view_count": null,
            "_view_module_version": "1.2.0",
            "_model_module": "@jupyter-widgets/controls"
          }
        },
        "cf16a6d33260475ebf3b0e44bc6934e7": {
          "model_module": "@jupyter-widgets/base",
          "model_name": "LayoutModel",
          "model_module_version": "1.2.0",
          "state": {
            "_view_name": "LayoutView",
            "grid_template_rows": null,
            "right": null,
            "justify_content": null,
            "_view_module": "@jupyter-widgets/base",
            "overflow": null,
            "_model_module_version": "1.2.0",
            "_view_count": null,
            "flex_flow": null,
            "width": null,
            "min_width": null,
            "border": null,
            "align_items": null,
            "bottom": null,
            "_model_module": "@jupyter-widgets/base",
            "top": null,
            "grid_column": null,
            "overflow_y": null,
            "overflow_x": null,
            "grid_auto_flow": null,
            "grid_area": null,
            "grid_template_columns": null,
            "flex": null,
            "_model_name": "LayoutModel",
            "justify_items": null,
            "grid_row": null,
            "max_height": null,
            "align_content": null,
            "visibility": null,
            "align_self": null,
            "height": null,
            "min_height": null,
            "padding": null,
            "grid_auto_rows": null,
            "grid_gap": null,
            "max_width": null,
            "order": null,
            "_view_module_version": "1.2.0",
            "grid_template_areas": null,
            "object_position": null,
            "object_fit": null,
            "grid_auto_columns": null,
            "margin": null,
            "display": null,
            "left": null
          }
        },
        "79825979aa184bf7afc2509d4b7d4ea3": {
          "model_module": "@jupyter-widgets/controls",
          "model_name": "HBoxModel",
          "model_module_version": "1.5.0",
          "state": {
            "_view_name": "HBoxView",
            "_dom_classes": [],
            "_model_name": "HBoxModel",
            "_view_module": "@jupyter-widgets/controls",
            "_model_module_version": "1.5.0",
            "_view_count": null,
            "_view_module_version": "1.5.0",
            "box_style": "",
            "layout": "IPY_MODEL_e616cb4df9bf489a94490f1bc39f2ff5",
            "_model_module": "@jupyter-widgets/controls",
            "children": [
              "IPY_MODEL_47cfb9a5e1f04f3d80ce0289c6adb1b2",
              "IPY_MODEL_e082e4fd00014bfe984d14bafe7f07a5",
              "IPY_MODEL_0240cb6c68334f0e921204e58e3dd2c2"
            ]
          }
        },
        "e616cb4df9bf489a94490f1bc39f2ff5": {
          "model_module": "@jupyter-widgets/base",
          "model_name": "LayoutModel",
          "model_module_version": "1.2.0",
          "state": {
            "_view_name": "LayoutView",
            "grid_template_rows": null,
            "right": null,
            "justify_content": null,
            "_view_module": "@jupyter-widgets/base",
            "overflow": null,
            "_model_module_version": "1.2.0",
            "_view_count": null,
            "flex_flow": null,
            "width": null,
            "min_width": null,
            "border": null,
            "align_items": null,
            "bottom": null,
            "_model_module": "@jupyter-widgets/base",
            "top": null,
            "grid_column": null,
            "overflow_y": null,
            "overflow_x": null,
            "grid_auto_flow": null,
            "grid_area": null,
            "grid_template_columns": null,
            "flex": null,
            "_model_name": "LayoutModel",
            "justify_items": null,
            "grid_row": null,
            "max_height": null,
            "align_content": null,
            "visibility": null,
            "align_self": null,
            "height": null,
            "min_height": null,
            "padding": null,
            "grid_auto_rows": null,
            "grid_gap": null,
            "max_width": null,
            "order": null,
            "_view_module_version": "1.2.0",
            "grid_template_areas": null,
            "object_position": null,
            "object_fit": null,
            "grid_auto_columns": null,
            "margin": null,
            "display": null,
            "left": null
          }
        },
        "47cfb9a5e1f04f3d80ce0289c6adb1b2": {
          "model_module": "@jupyter-widgets/controls",
          "model_name": "HTMLModel",
          "model_module_version": "1.5.0",
          "state": {
            "_view_name": "HTMLView",
            "style": "IPY_MODEL_f715350fea614b8896451c59cea6bb72",
            "_dom_classes": [],
            "description": "",
            "_model_name": "HTMLModel",
            "placeholder": "​",
            "_view_module": "@jupyter-widgets/controls",
            "_model_module_version": "1.5.0",
            "value": "Export report to file: 100%",
            "_view_count": null,
            "_view_module_version": "1.5.0",
            "description_tooltip": null,
            "_model_module": "@jupyter-widgets/controls",
            "layout": "IPY_MODEL_6c5a7f2bcae148b995b9a944c94c3733"
          }
        },
        "e082e4fd00014bfe984d14bafe7f07a5": {
          "model_module": "@jupyter-widgets/controls",
          "model_name": "FloatProgressModel",
          "model_module_version": "1.5.0",
          "state": {
            "_view_name": "ProgressView",
            "style": "IPY_MODEL_c4ce023a41594f7d99b36ec68a6555aa",
            "_dom_classes": [],
            "description": "",
            "_model_name": "FloatProgressModel",
            "bar_style": "success",
            "max": 1,
            "_view_module": "@jupyter-widgets/controls",
            "_model_module_version": "1.5.0",
            "value": 1,
            "_view_count": null,
            "_view_module_version": "1.5.0",
            "orientation": "horizontal",
            "min": 0,
            "description_tooltip": null,
            "_model_module": "@jupyter-widgets/controls",
            "layout": "IPY_MODEL_6730c2df37cc4cc1b4782354d7884747"
          }
        },
        "0240cb6c68334f0e921204e58e3dd2c2": {
          "model_module": "@jupyter-widgets/controls",
          "model_name": "HTMLModel",
          "model_module_version": "1.5.0",
          "state": {
            "_view_name": "HTMLView",
            "style": "IPY_MODEL_b22e4a3e1a244fe5b28faf1e7af86b5b",
            "_dom_classes": [],
            "description": "",
            "_model_name": "HTMLModel",
            "placeholder": "​",
            "_view_module": "@jupyter-widgets/controls",
            "_model_module_version": "1.5.0",
            "value": " 1/1 [00:00&lt;00:00,  8.93it/s]",
            "_view_count": null,
            "_view_module_version": "1.5.0",
            "description_tooltip": null,
            "_model_module": "@jupyter-widgets/controls",
            "layout": "IPY_MODEL_5d4b7c05b9204770b28102d6f8b617dc"
          }
        },
        "f715350fea614b8896451c59cea6bb72": {
          "model_module": "@jupyter-widgets/controls",
          "model_name": "DescriptionStyleModel",
          "model_module_version": "1.5.0",
          "state": {
            "_view_name": "StyleView",
            "_model_name": "DescriptionStyleModel",
            "description_width": "",
            "_view_module": "@jupyter-widgets/base",
            "_model_module_version": "1.5.0",
            "_view_count": null,
            "_view_module_version": "1.2.0",
            "_model_module": "@jupyter-widgets/controls"
          }
        },
        "6c5a7f2bcae148b995b9a944c94c3733": {
          "model_module": "@jupyter-widgets/base",
          "model_name": "LayoutModel",
          "model_module_version": "1.2.0",
          "state": {
            "_view_name": "LayoutView",
            "grid_template_rows": null,
            "right": null,
            "justify_content": null,
            "_view_module": "@jupyter-widgets/base",
            "overflow": null,
            "_model_module_version": "1.2.0",
            "_view_count": null,
            "flex_flow": null,
            "width": null,
            "min_width": null,
            "border": null,
            "align_items": null,
            "bottom": null,
            "_model_module": "@jupyter-widgets/base",
            "top": null,
            "grid_column": null,
            "overflow_y": null,
            "overflow_x": null,
            "grid_auto_flow": null,
            "grid_area": null,
            "grid_template_columns": null,
            "flex": null,
            "_model_name": "LayoutModel",
            "justify_items": null,
            "grid_row": null,
            "max_height": null,
            "align_content": null,
            "visibility": null,
            "align_self": null,
            "height": null,
            "min_height": null,
            "padding": null,
            "grid_auto_rows": null,
            "grid_gap": null,
            "max_width": null,
            "order": null,
            "_view_module_version": "1.2.0",
            "grid_template_areas": null,
            "object_position": null,
            "object_fit": null,
            "grid_auto_columns": null,
            "margin": null,
            "display": null,
            "left": null
          }
        },
        "c4ce023a41594f7d99b36ec68a6555aa": {
          "model_module": "@jupyter-widgets/controls",
          "model_name": "ProgressStyleModel",
          "model_module_version": "1.5.0",
          "state": {
            "_view_name": "StyleView",
            "_model_name": "ProgressStyleModel",
            "description_width": "",
            "_view_module": "@jupyter-widgets/base",
            "_model_module_version": "1.5.0",
            "_view_count": null,
            "_view_module_version": "1.2.0",
            "bar_color": null,
            "_model_module": "@jupyter-widgets/controls"
          }
        },
        "6730c2df37cc4cc1b4782354d7884747": {
          "model_module": "@jupyter-widgets/base",
          "model_name": "LayoutModel",
          "model_module_version": "1.2.0",
          "state": {
            "_view_name": "LayoutView",
            "grid_template_rows": null,
            "right": null,
            "justify_content": null,
            "_view_module": "@jupyter-widgets/base",
            "overflow": null,
            "_model_module_version": "1.2.0",
            "_view_count": null,
            "flex_flow": null,
            "width": null,
            "min_width": null,
            "border": null,
            "align_items": null,
            "bottom": null,
            "_model_module": "@jupyter-widgets/base",
            "top": null,
            "grid_column": null,
            "overflow_y": null,
            "overflow_x": null,
            "grid_auto_flow": null,
            "grid_area": null,
            "grid_template_columns": null,
            "flex": null,
            "_model_name": "LayoutModel",
            "justify_items": null,
            "grid_row": null,
            "max_height": null,
            "align_content": null,
            "visibility": null,
            "align_self": null,
            "height": null,
            "min_height": null,
            "padding": null,
            "grid_auto_rows": null,
            "grid_gap": null,
            "max_width": null,
            "order": null,
            "_view_module_version": "1.2.0",
            "grid_template_areas": null,
            "object_position": null,
            "object_fit": null,
            "grid_auto_columns": null,
            "margin": null,
            "display": null,
            "left": null
          }
        },
        "b22e4a3e1a244fe5b28faf1e7af86b5b": {
          "model_module": "@jupyter-widgets/controls",
          "model_name": "DescriptionStyleModel",
          "model_module_version": "1.5.0",
          "state": {
            "_view_name": "StyleView",
            "_model_name": "DescriptionStyleModel",
            "description_width": "",
            "_view_module": "@jupyter-widgets/base",
            "_model_module_version": "1.5.0",
            "_view_count": null,
            "_view_module_version": "1.2.0",
            "_model_module": "@jupyter-widgets/controls"
          }
        },
        "5d4b7c05b9204770b28102d6f8b617dc": {
          "model_module": "@jupyter-widgets/base",
          "model_name": "LayoutModel",
          "model_module_version": "1.2.0",
          "state": {
            "_view_name": "LayoutView",
            "grid_template_rows": null,
            "right": null,
            "justify_content": null,
            "_view_module": "@jupyter-widgets/base",
            "overflow": null,
            "_model_module_version": "1.2.0",
            "_view_count": null,
            "flex_flow": null,
            "width": null,
            "min_width": null,
            "border": null,
            "align_items": null,
            "bottom": null,
            "_model_module": "@jupyter-widgets/base",
            "top": null,
            "grid_column": null,
            "overflow_y": null,
            "overflow_x": null,
            "grid_auto_flow": null,
            "grid_area": null,
            "grid_template_columns": null,
            "flex": null,
            "_model_name": "LayoutModel",
            "justify_items": null,
            "grid_row": null,
            "max_height": null,
            "align_content": null,
            "visibility": null,
            "align_self": null,
            "height": null,
            "min_height": null,
            "padding": null,
            "grid_auto_rows": null,
            "grid_gap": null,
            "max_width": null,
            "order": null,
            "_view_module_version": "1.2.0",
            "grid_template_areas": null,
            "object_position": null,
            "object_fit": null,
            "grid_auto_columns": null,
            "margin": null,
            "display": null,
            "left": null
          }
        },
        "e5af5976b3c940458a73e99d693fd57e": {
          "model_module": "@jupyter-widgets/controls",
          "model_name": "HBoxModel",
          "model_module_version": "1.5.0",
          "state": {
            "_view_name": "HBoxView",
            "_dom_classes": [],
            "_model_name": "HBoxModel",
            "_view_module": "@jupyter-widgets/controls",
            "_model_module_version": "1.5.0",
            "_view_count": null,
            "_view_module_version": "1.5.0",
            "box_style": "",
            "layout": "IPY_MODEL_8e85d931b0894fb6b8d90468509c19a7",
            "_model_module": "@jupyter-widgets/controls",
            "children": [
              "IPY_MODEL_35547da175b94ebfa5f61a8d3725ed6d",
              "IPY_MODEL_ca86677b32d043d09e39dd0ae43d80d7",
              "IPY_MODEL_f10bda87fadd4937912a9047b72c5889"
            ]
          }
        },
        "8e85d931b0894fb6b8d90468509c19a7": {
          "model_module": "@jupyter-widgets/base",
          "model_name": "LayoutModel",
          "model_module_version": "1.2.0",
          "state": {
            "_view_name": "LayoutView",
            "grid_template_rows": null,
            "right": null,
            "justify_content": null,
            "_view_module": "@jupyter-widgets/base",
            "overflow": null,
            "_model_module_version": "1.2.0",
            "_view_count": null,
            "flex_flow": null,
            "width": null,
            "min_width": null,
            "border": null,
            "align_items": null,
            "bottom": null,
            "_model_module": "@jupyter-widgets/base",
            "top": null,
            "grid_column": null,
            "overflow_y": null,
            "overflow_x": null,
            "grid_auto_flow": null,
            "grid_area": null,
            "grid_template_columns": null,
            "flex": null,
            "_model_name": "LayoutModel",
            "justify_items": null,
            "grid_row": null,
            "max_height": null,
            "align_content": null,
            "visibility": null,
            "align_self": null,
            "height": null,
            "min_height": null,
            "padding": null,
            "grid_auto_rows": null,
            "grid_gap": null,
            "max_width": null,
            "order": null,
            "_view_module_version": "1.2.0",
            "grid_template_areas": null,
            "object_position": null,
            "object_fit": null,
            "grid_auto_columns": null,
            "margin": null,
            "display": null,
            "left": null
          }
        },
        "35547da175b94ebfa5f61a8d3725ed6d": {
          "model_module": "@jupyter-widgets/controls",
          "model_name": "HTMLModel",
          "model_module_version": "1.5.0",
          "state": {
            "_view_name": "HTMLView",
            "style": "IPY_MODEL_259f8fc500ca4aea82ab0d32b9fc8282",
            "_dom_classes": [],
            "description": "",
            "_model_name": "HTMLModel",
            "placeholder": "​",
            "_view_module": "@jupyter-widgets/controls",
            "_model_module_version": "1.5.0",
            "value": "Summarize dataset: 100%",
            "_view_count": null,
            "_view_module_version": "1.5.0",
            "description_tooltip": null,
            "_model_module": "@jupyter-widgets/controls",
            "layout": "IPY_MODEL_88dde1d43dcd438ba633f3db242b5e59"
          }
        },
        "ca86677b32d043d09e39dd0ae43d80d7": {
          "model_module": "@jupyter-widgets/controls",
          "model_name": "FloatProgressModel",
          "model_module_version": "1.5.0",
          "state": {
            "_view_name": "ProgressView",
            "style": "IPY_MODEL_e1a1bb98fa7a4d4c858d38a513964867",
            "_dom_classes": [],
            "description": "",
            "_model_name": "FloatProgressModel",
            "bar_style": "success",
            "max": 5,
            "_view_module": "@jupyter-widgets/controls",
            "_model_module_version": "1.5.0",
            "value": 5,
            "_view_count": null,
            "_view_module_version": "1.5.0",
            "orientation": "horizontal",
            "min": 0,
            "description_tooltip": null,
            "_model_module": "@jupyter-widgets/controls",
            "layout": "IPY_MODEL_f66b99664b3440a1b3b0b19231188abe"
          }
        },
        "f10bda87fadd4937912a9047b72c5889": {
          "model_module": "@jupyter-widgets/controls",
          "model_name": "HTMLModel",
          "model_module_version": "1.5.0",
          "state": {
            "_view_name": "HTMLView",
            "style": "IPY_MODEL_7781d5c3a25f41df97d59ab8abfad7b0",
            "_dom_classes": [],
            "description": "",
            "_model_name": "HTMLModel",
            "placeholder": "​",
            "_view_module": "@jupyter-widgets/controls",
            "_model_module_version": "1.5.0",
            "value": " 197/197 [00:42&lt;00:00,  3.06it/s, Completed]",
            "_view_count": null,
            "_view_module_version": "1.5.0",
            "description_tooltip": null,
            "_model_module": "@jupyter-widgets/controls",
            "layout": "IPY_MODEL_3236865eb347463ea4b1c81a905a5a65"
          }
        },
        "259f8fc500ca4aea82ab0d32b9fc8282": {
          "model_module": "@jupyter-widgets/controls",
          "model_name": "DescriptionStyleModel",
          "model_module_version": "1.5.0",
          "state": {
            "_view_name": "StyleView",
            "_model_name": "DescriptionStyleModel",
            "description_width": "",
            "_view_module": "@jupyter-widgets/base",
            "_model_module_version": "1.5.0",
            "_view_count": null,
            "_view_module_version": "1.2.0",
            "_model_module": "@jupyter-widgets/controls"
          }
        },
        "88dde1d43dcd438ba633f3db242b5e59": {
          "model_module": "@jupyter-widgets/base",
          "model_name": "LayoutModel",
          "model_module_version": "1.2.0",
          "state": {
            "_view_name": "LayoutView",
            "grid_template_rows": null,
            "right": null,
            "justify_content": null,
            "_view_module": "@jupyter-widgets/base",
            "overflow": null,
            "_model_module_version": "1.2.0",
            "_view_count": null,
            "flex_flow": null,
            "width": null,
            "min_width": null,
            "border": null,
            "align_items": null,
            "bottom": null,
            "_model_module": "@jupyter-widgets/base",
            "top": null,
            "grid_column": null,
            "overflow_y": null,
            "overflow_x": null,
            "grid_auto_flow": null,
            "grid_area": null,
            "grid_template_columns": null,
            "flex": null,
            "_model_name": "LayoutModel",
            "justify_items": null,
            "grid_row": null,
            "max_height": null,
            "align_content": null,
            "visibility": null,
            "align_self": null,
            "height": null,
            "min_height": null,
            "padding": null,
            "grid_auto_rows": null,
            "grid_gap": null,
            "max_width": null,
            "order": null,
            "_view_module_version": "1.2.0",
            "grid_template_areas": null,
            "object_position": null,
            "object_fit": null,
            "grid_auto_columns": null,
            "margin": null,
            "display": null,
            "left": null
          }
        },
        "e1a1bb98fa7a4d4c858d38a513964867": {
          "model_module": "@jupyter-widgets/controls",
          "model_name": "ProgressStyleModel",
          "model_module_version": "1.5.0",
          "state": {
            "_view_name": "StyleView",
            "_model_name": "ProgressStyleModel",
            "description_width": "",
            "_view_module": "@jupyter-widgets/base",
            "_model_module_version": "1.5.0",
            "_view_count": null,
            "_view_module_version": "1.2.0",
            "bar_color": null,
            "_model_module": "@jupyter-widgets/controls"
          }
        },
        "f66b99664b3440a1b3b0b19231188abe": {
          "model_module": "@jupyter-widgets/base",
          "model_name": "LayoutModel",
          "model_module_version": "1.2.0",
          "state": {
            "_view_name": "LayoutView",
            "grid_template_rows": null,
            "right": null,
            "justify_content": null,
            "_view_module": "@jupyter-widgets/base",
            "overflow": null,
            "_model_module_version": "1.2.0",
            "_view_count": null,
            "flex_flow": null,
            "width": null,
            "min_width": null,
            "border": null,
            "align_items": null,
            "bottom": null,
            "_model_module": "@jupyter-widgets/base",
            "top": null,
            "grid_column": null,
            "overflow_y": null,
            "overflow_x": null,
            "grid_auto_flow": null,
            "grid_area": null,
            "grid_template_columns": null,
            "flex": null,
            "_model_name": "LayoutModel",
            "justify_items": null,
            "grid_row": null,
            "max_height": null,
            "align_content": null,
            "visibility": null,
            "align_self": null,
            "height": null,
            "min_height": null,
            "padding": null,
            "grid_auto_rows": null,
            "grid_gap": null,
            "max_width": null,
            "order": null,
            "_view_module_version": "1.2.0",
            "grid_template_areas": null,
            "object_position": null,
            "object_fit": null,
            "grid_auto_columns": null,
            "margin": null,
            "display": null,
            "left": null
          }
        },
        "7781d5c3a25f41df97d59ab8abfad7b0": {
          "model_module": "@jupyter-widgets/controls",
          "model_name": "DescriptionStyleModel",
          "model_module_version": "1.5.0",
          "state": {
            "_view_name": "StyleView",
            "_model_name": "DescriptionStyleModel",
            "description_width": "",
            "_view_module": "@jupyter-widgets/base",
            "_model_module_version": "1.5.0",
            "_view_count": null,
            "_view_module_version": "1.2.0",
            "_model_module": "@jupyter-widgets/controls"
          }
        },
        "3236865eb347463ea4b1c81a905a5a65": {
          "model_module": "@jupyter-widgets/base",
          "model_name": "LayoutModel",
          "model_module_version": "1.2.0",
          "state": {
            "_view_name": "LayoutView",
            "grid_template_rows": null,
            "right": null,
            "justify_content": null,
            "_view_module": "@jupyter-widgets/base",
            "overflow": null,
            "_model_module_version": "1.2.0",
            "_view_count": null,
            "flex_flow": null,
            "width": null,
            "min_width": null,
            "border": null,
            "align_items": null,
            "bottom": null,
            "_model_module": "@jupyter-widgets/base",
            "top": null,
            "grid_column": null,
            "overflow_y": null,
            "overflow_x": null,
            "grid_auto_flow": null,
            "grid_area": null,
            "grid_template_columns": null,
            "flex": null,
            "_model_name": "LayoutModel",
            "justify_items": null,
            "grid_row": null,
            "max_height": null,
            "align_content": null,
            "visibility": null,
            "align_self": null,
            "height": null,
            "min_height": null,
            "padding": null,
            "grid_auto_rows": null,
            "grid_gap": null,
            "max_width": null,
            "order": null,
            "_view_module_version": "1.2.0",
            "grid_template_areas": null,
            "object_position": null,
            "object_fit": null,
            "grid_auto_columns": null,
            "margin": null,
            "display": null,
            "left": null
          }
        },
        "fc400d898bb84094be8523ff7906d09a": {
          "model_module": "@jupyter-widgets/controls",
          "model_name": "HBoxModel",
          "model_module_version": "1.5.0",
          "state": {
            "_view_name": "HBoxView",
            "_dom_classes": [],
            "_model_name": "HBoxModel",
            "_view_module": "@jupyter-widgets/controls",
            "_model_module_version": "1.5.0",
            "_view_count": null,
            "_view_module_version": "1.5.0",
            "box_style": "",
            "layout": "IPY_MODEL_d51c806c565b47cbbbb26b6146925d7e",
            "_model_module": "@jupyter-widgets/controls",
            "children": [
              "IPY_MODEL_136f6e78ec814d65998e20d7e0bae4d6",
              "IPY_MODEL_a402249aa7ca41ea83cbafd8edf10f3c",
              "IPY_MODEL_3f6fd317b5694bd5862f119ba535edd7"
            ]
          }
        },
        "d51c806c565b47cbbbb26b6146925d7e": {
          "model_module": "@jupyter-widgets/base",
          "model_name": "LayoutModel",
          "model_module_version": "1.2.0",
          "state": {
            "_view_name": "LayoutView",
            "grid_template_rows": null,
            "right": null,
            "justify_content": null,
            "_view_module": "@jupyter-widgets/base",
            "overflow": null,
            "_model_module_version": "1.2.0",
            "_view_count": null,
            "flex_flow": null,
            "width": null,
            "min_width": null,
            "border": null,
            "align_items": null,
            "bottom": null,
            "_model_module": "@jupyter-widgets/base",
            "top": null,
            "grid_column": null,
            "overflow_y": null,
            "overflow_x": null,
            "grid_auto_flow": null,
            "grid_area": null,
            "grid_template_columns": null,
            "flex": null,
            "_model_name": "LayoutModel",
            "justify_items": null,
            "grid_row": null,
            "max_height": null,
            "align_content": null,
            "visibility": null,
            "align_self": null,
            "height": null,
            "min_height": null,
            "padding": null,
            "grid_auto_rows": null,
            "grid_gap": null,
            "max_width": null,
            "order": null,
            "_view_module_version": "1.2.0",
            "grid_template_areas": null,
            "object_position": null,
            "object_fit": null,
            "grid_auto_columns": null,
            "margin": null,
            "display": null,
            "left": null
          }
        },
        "136f6e78ec814d65998e20d7e0bae4d6": {
          "model_module": "@jupyter-widgets/controls",
          "model_name": "HTMLModel",
          "model_module_version": "1.5.0",
          "state": {
            "_view_name": "HTMLView",
            "style": "IPY_MODEL_349211fe0b464dc195bc7d27ca18920f",
            "_dom_classes": [],
            "description": "",
            "_model_name": "HTMLModel",
            "placeholder": "​",
            "_view_module": "@jupyter-widgets/controls",
            "_model_module_version": "1.5.0",
            "value": "Generate report structure: 100%",
            "_view_count": null,
            "_view_module_version": "1.5.0",
            "description_tooltip": null,
            "_model_module": "@jupyter-widgets/controls",
            "layout": "IPY_MODEL_a080b554cf354d46b4cd5b1033bea153"
          }
        },
        "a402249aa7ca41ea83cbafd8edf10f3c": {
          "model_module": "@jupyter-widgets/controls",
          "model_name": "FloatProgressModel",
          "model_module_version": "1.5.0",
          "state": {
            "_view_name": "ProgressView",
            "style": "IPY_MODEL_c4ba93f469df48ebaa18b6768343fba2",
            "_dom_classes": [],
            "description": "",
            "_model_name": "FloatProgressModel",
            "bar_style": "success",
            "max": 1,
            "_view_module": "@jupyter-widgets/controls",
            "_model_module_version": "1.5.0",
            "value": 1,
            "_view_count": null,
            "_view_module_version": "1.5.0",
            "orientation": "horizontal",
            "min": 0,
            "description_tooltip": null,
            "_model_module": "@jupyter-widgets/controls",
            "layout": "IPY_MODEL_7662706798744a1aa973e3b0c284a04f"
          }
        },
        "3f6fd317b5694bd5862f119ba535edd7": {
          "model_module": "@jupyter-widgets/controls",
          "model_name": "HTMLModel",
          "model_module_version": "1.5.0",
          "state": {
            "_view_name": "HTMLView",
            "style": "IPY_MODEL_1b3ae875007e40a68b78f485b8f5043c",
            "_dom_classes": [],
            "description": "",
            "_model_name": "HTMLModel",
            "placeholder": "​",
            "_view_module": "@jupyter-widgets/controls",
            "_model_module_version": "1.5.0",
            "value": " 1/1 [00:08&lt;00:00,  8.68s/it]",
            "_view_count": null,
            "_view_module_version": "1.5.0",
            "description_tooltip": null,
            "_model_module": "@jupyter-widgets/controls",
            "layout": "IPY_MODEL_782614fecfcc43b9a70708995b1bb483"
          }
        },
        "349211fe0b464dc195bc7d27ca18920f": {
          "model_module": "@jupyter-widgets/controls",
          "model_name": "DescriptionStyleModel",
          "model_module_version": "1.5.0",
          "state": {
            "_view_name": "StyleView",
            "_model_name": "DescriptionStyleModel",
            "description_width": "",
            "_view_module": "@jupyter-widgets/base",
            "_model_module_version": "1.5.0",
            "_view_count": null,
            "_view_module_version": "1.2.0",
            "_model_module": "@jupyter-widgets/controls"
          }
        },
        "a080b554cf354d46b4cd5b1033bea153": {
          "model_module": "@jupyter-widgets/base",
          "model_name": "LayoutModel",
          "model_module_version": "1.2.0",
          "state": {
            "_view_name": "LayoutView",
            "grid_template_rows": null,
            "right": null,
            "justify_content": null,
            "_view_module": "@jupyter-widgets/base",
            "overflow": null,
            "_model_module_version": "1.2.0",
            "_view_count": null,
            "flex_flow": null,
            "width": null,
            "min_width": null,
            "border": null,
            "align_items": null,
            "bottom": null,
            "_model_module": "@jupyter-widgets/base",
            "top": null,
            "grid_column": null,
            "overflow_y": null,
            "overflow_x": null,
            "grid_auto_flow": null,
            "grid_area": null,
            "grid_template_columns": null,
            "flex": null,
            "_model_name": "LayoutModel",
            "justify_items": null,
            "grid_row": null,
            "max_height": null,
            "align_content": null,
            "visibility": null,
            "align_self": null,
            "height": null,
            "min_height": null,
            "padding": null,
            "grid_auto_rows": null,
            "grid_gap": null,
            "max_width": null,
            "order": null,
            "_view_module_version": "1.2.0",
            "grid_template_areas": null,
            "object_position": null,
            "object_fit": null,
            "grid_auto_columns": null,
            "margin": null,
            "display": null,
            "left": null
          }
        },
        "c4ba93f469df48ebaa18b6768343fba2": {
          "model_module": "@jupyter-widgets/controls",
          "model_name": "ProgressStyleModel",
          "model_module_version": "1.5.0",
          "state": {
            "_view_name": "StyleView",
            "_model_name": "ProgressStyleModel",
            "description_width": "",
            "_view_module": "@jupyter-widgets/base",
            "_model_module_version": "1.5.0",
            "_view_count": null,
            "_view_module_version": "1.2.0",
            "bar_color": null,
            "_model_module": "@jupyter-widgets/controls"
          }
        },
        "7662706798744a1aa973e3b0c284a04f": {
          "model_module": "@jupyter-widgets/base",
          "model_name": "LayoutModel",
          "model_module_version": "1.2.0",
          "state": {
            "_view_name": "LayoutView",
            "grid_template_rows": null,
            "right": null,
            "justify_content": null,
            "_view_module": "@jupyter-widgets/base",
            "overflow": null,
            "_model_module_version": "1.2.0",
            "_view_count": null,
            "flex_flow": null,
            "width": null,
            "min_width": null,
            "border": null,
            "align_items": null,
            "bottom": null,
            "_model_module": "@jupyter-widgets/base",
            "top": null,
            "grid_column": null,
            "overflow_y": null,
            "overflow_x": null,
            "grid_auto_flow": null,
            "grid_area": null,
            "grid_template_columns": null,
            "flex": null,
            "_model_name": "LayoutModel",
            "justify_items": null,
            "grid_row": null,
            "max_height": null,
            "align_content": null,
            "visibility": null,
            "align_self": null,
            "height": null,
            "min_height": null,
            "padding": null,
            "grid_auto_rows": null,
            "grid_gap": null,
            "max_width": null,
            "order": null,
            "_view_module_version": "1.2.0",
            "grid_template_areas": null,
            "object_position": null,
            "object_fit": null,
            "grid_auto_columns": null,
            "margin": null,
            "display": null,
            "left": null
          }
        },
        "1b3ae875007e40a68b78f485b8f5043c": {
          "model_module": "@jupyter-widgets/controls",
          "model_name": "DescriptionStyleModel",
          "model_module_version": "1.5.0",
          "state": {
            "_view_name": "StyleView",
            "_model_name": "DescriptionStyleModel",
            "description_width": "",
            "_view_module": "@jupyter-widgets/base",
            "_model_module_version": "1.5.0",
            "_view_count": null,
            "_view_module_version": "1.2.0",
            "_model_module": "@jupyter-widgets/controls"
          }
        },
        "782614fecfcc43b9a70708995b1bb483": {
          "model_module": "@jupyter-widgets/base",
          "model_name": "LayoutModel",
          "model_module_version": "1.2.0",
          "state": {
            "_view_name": "LayoutView",
            "grid_template_rows": null,
            "right": null,
            "justify_content": null,
            "_view_module": "@jupyter-widgets/base",
            "overflow": null,
            "_model_module_version": "1.2.0",
            "_view_count": null,
            "flex_flow": null,
            "width": null,
            "min_width": null,
            "border": null,
            "align_items": null,
            "bottom": null,
            "_model_module": "@jupyter-widgets/base",
            "top": null,
            "grid_column": null,
            "overflow_y": null,
            "overflow_x": null,
            "grid_auto_flow": null,
            "grid_area": null,
            "grid_template_columns": null,
            "flex": null,
            "_model_name": "LayoutModel",
            "justify_items": null,
            "grid_row": null,
            "max_height": null,
            "align_content": null,
            "visibility": null,
            "align_self": null,
            "height": null,
            "min_height": null,
            "padding": null,
            "grid_auto_rows": null,
            "grid_gap": null,
            "max_width": null,
            "order": null,
            "_view_module_version": "1.2.0",
            "grid_template_areas": null,
            "object_position": null,
            "object_fit": null,
            "grid_auto_columns": null,
            "margin": null,
            "display": null,
            "left": null
          }
        },
        "5748d8c50fb84f15bcaf195fa817b986": {
          "model_module": "@jupyter-widgets/controls",
          "model_name": "HBoxModel",
          "model_module_version": "1.5.0",
          "state": {
            "_view_name": "HBoxView",
            "_dom_classes": [],
            "_model_name": "HBoxModel",
            "_view_module": "@jupyter-widgets/controls",
            "_model_module_version": "1.5.0",
            "_view_count": null,
            "_view_module_version": "1.5.0",
            "box_style": "",
            "layout": "IPY_MODEL_9ded422bca8d45f9a2bb302edae3cfa6",
            "_model_module": "@jupyter-widgets/controls",
            "children": [
              "IPY_MODEL_3510554328cc4e80bbb26d80dc04dec1",
              "IPY_MODEL_c7e0d0f1b7494751b077498caf618b08",
              "IPY_MODEL_536af0483a1f4863a349aac7cc8abeba"
            ]
          }
        },
        "9ded422bca8d45f9a2bb302edae3cfa6": {
          "model_module": "@jupyter-widgets/base",
          "model_name": "LayoutModel",
          "model_module_version": "1.2.0",
          "state": {
            "_view_name": "LayoutView",
            "grid_template_rows": null,
            "right": null,
            "justify_content": null,
            "_view_module": "@jupyter-widgets/base",
            "overflow": null,
            "_model_module_version": "1.2.0",
            "_view_count": null,
            "flex_flow": null,
            "width": null,
            "min_width": null,
            "border": null,
            "align_items": null,
            "bottom": null,
            "_model_module": "@jupyter-widgets/base",
            "top": null,
            "grid_column": null,
            "overflow_y": null,
            "overflow_x": null,
            "grid_auto_flow": null,
            "grid_area": null,
            "grid_template_columns": null,
            "flex": null,
            "_model_name": "LayoutModel",
            "justify_items": null,
            "grid_row": null,
            "max_height": null,
            "align_content": null,
            "visibility": null,
            "align_self": null,
            "height": null,
            "min_height": null,
            "padding": null,
            "grid_auto_rows": null,
            "grid_gap": null,
            "max_width": null,
            "order": null,
            "_view_module_version": "1.2.0",
            "grid_template_areas": null,
            "object_position": null,
            "object_fit": null,
            "grid_auto_columns": null,
            "margin": null,
            "display": null,
            "left": null
          }
        },
        "3510554328cc4e80bbb26d80dc04dec1": {
          "model_module": "@jupyter-widgets/controls",
          "model_name": "HTMLModel",
          "model_module_version": "1.5.0",
          "state": {
            "_view_name": "HTMLView",
            "style": "IPY_MODEL_04b6930bd15445dd84fcb4de30c40cf2",
            "_dom_classes": [],
            "description": "",
            "_model_name": "HTMLModel",
            "placeholder": "​",
            "_view_module": "@jupyter-widgets/controls",
            "_model_module_version": "1.5.0",
            "value": "Render HTML: 100%",
            "_view_count": null,
            "_view_module_version": "1.5.0",
            "description_tooltip": null,
            "_model_module": "@jupyter-widgets/controls",
            "layout": "IPY_MODEL_2271b90e95a94944b5e05f055c45ec49"
          }
        },
        "c7e0d0f1b7494751b077498caf618b08": {
          "model_module": "@jupyter-widgets/controls",
          "model_name": "FloatProgressModel",
          "model_module_version": "1.5.0",
          "state": {
            "_view_name": "ProgressView",
            "style": "IPY_MODEL_3b9eb48878324dcc87e3e00bca53cbaa",
            "_dom_classes": [],
            "description": "",
            "_model_name": "FloatProgressModel",
            "bar_style": "success",
            "max": 1,
            "_view_module": "@jupyter-widgets/controls",
            "_model_module_version": "1.5.0",
            "value": 1,
            "_view_count": null,
            "_view_module_version": "1.5.0",
            "orientation": "horizontal",
            "min": 0,
            "description_tooltip": null,
            "_model_module": "@jupyter-widgets/controls",
            "layout": "IPY_MODEL_a2acce2b822d470ebeb4987ba356b3a2"
          }
        },
        "536af0483a1f4863a349aac7cc8abeba": {
          "model_module": "@jupyter-widgets/controls",
          "model_name": "HTMLModel",
          "model_module_version": "1.5.0",
          "state": {
            "_view_name": "HTMLView",
            "style": "IPY_MODEL_88d3de8bd2324c52acaba4ab4280a07e",
            "_dom_classes": [],
            "description": "",
            "_model_name": "HTMLModel",
            "placeholder": "​",
            "_view_module": "@jupyter-widgets/controls",
            "_model_module_version": "1.5.0",
            "value": " 1/1 [00:06&lt;00:00,  6.20s/it]",
            "_view_count": null,
            "_view_module_version": "1.5.0",
            "description_tooltip": null,
            "_model_module": "@jupyter-widgets/controls",
            "layout": "IPY_MODEL_fbed8382448047248b558e882c113f8e"
          }
        },
        "04b6930bd15445dd84fcb4de30c40cf2": {
          "model_module": "@jupyter-widgets/controls",
          "model_name": "DescriptionStyleModel",
          "model_module_version": "1.5.0",
          "state": {
            "_view_name": "StyleView",
            "_model_name": "DescriptionStyleModel",
            "description_width": "",
            "_view_module": "@jupyter-widgets/base",
            "_model_module_version": "1.5.0",
            "_view_count": null,
            "_view_module_version": "1.2.0",
            "_model_module": "@jupyter-widgets/controls"
          }
        },
        "2271b90e95a94944b5e05f055c45ec49": {
          "model_module": "@jupyter-widgets/base",
          "model_name": "LayoutModel",
          "model_module_version": "1.2.0",
          "state": {
            "_view_name": "LayoutView",
            "grid_template_rows": null,
            "right": null,
            "justify_content": null,
            "_view_module": "@jupyter-widgets/base",
            "overflow": null,
            "_model_module_version": "1.2.0",
            "_view_count": null,
            "flex_flow": null,
            "width": null,
            "min_width": null,
            "border": null,
            "align_items": null,
            "bottom": null,
            "_model_module": "@jupyter-widgets/base",
            "top": null,
            "grid_column": null,
            "overflow_y": null,
            "overflow_x": null,
            "grid_auto_flow": null,
            "grid_area": null,
            "grid_template_columns": null,
            "flex": null,
            "_model_name": "LayoutModel",
            "justify_items": null,
            "grid_row": null,
            "max_height": null,
            "align_content": null,
            "visibility": null,
            "align_self": null,
            "height": null,
            "min_height": null,
            "padding": null,
            "grid_auto_rows": null,
            "grid_gap": null,
            "max_width": null,
            "order": null,
            "_view_module_version": "1.2.0",
            "grid_template_areas": null,
            "object_position": null,
            "object_fit": null,
            "grid_auto_columns": null,
            "margin": null,
            "display": null,
            "left": null
          }
        },
        "3b9eb48878324dcc87e3e00bca53cbaa": {
          "model_module": "@jupyter-widgets/controls",
          "model_name": "ProgressStyleModel",
          "model_module_version": "1.5.0",
          "state": {
            "_view_name": "StyleView",
            "_model_name": "ProgressStyleModel",
            "description_width": "",
            "_view_module": "@jupyter-widgets/base",
            "_model_module_version": "1.5.0",
            "_view_count": null,
            "_view_module_version": "1.2.0",
            "bar_color": null,
            "_model_module": "@jupyter-widgets/controls"
          }
        },
        "a2acce2b822d470ebeb4987ba356b3a2": {
          "model_module": "@jupyter-widgets/base",
          "model_name": "LayoutModel",
          "model_module_version": "1.2.0",
          "state": {
            "_view_name": "LayoutView",
            "grid_template_rows": null,
            "right": null,
            "justify_content": null,
            "_view_module": "@jupyter-widgets/base",
            "overflow": null,
            "_model_module_version": "1.2.0",
            "_view_count": null,
            "flex_flow": null,
            "width": null,
            "min_width": null,
            "border": null,
            "align_items": null,
            "bottom": null,
            "_model_module": "@jupyter-widgets/base",
            "top": null,
            "grid_column": null,
            "overflow_y": null,
            "overflow_x": null,
            "grid_auto_flow": null,
            "grid_area": null,
            "grid_template_columns": null,
            "flex": null,
            "_model_name": "LayoutModel",
            "justify_items": null,
            "grid_row": null,
            "max_height": null,
            "align_content": null,
            "visibility": null,
            "align_self": null,
            "height": null,
            "min_height": null,
            "padding": null,
            "grid_auto_rows": null,
            "grid_gap": null,
            "max_width": null,
            "order": null,
            "_view_module_version": "1.2.0",
            "grid_template_areas": null,
            "object_position": null,
            "object_fit": null,
            "grid_auto_columns": null,
            "margin": null,
            "display": null,
            "left": null
          }
        },
        "88d3de8bd2324c52acaba4ab4280a07e": {
          "model_module": "@jupyter-widgets/controls",
          "model_name": "DescriptionStyleModel",
          "model_module_version": "1.5.0",
          "state": {
            "_view_name": "StyleView",
            "_model_name": "DescriptionStyleModel",
            "description_width": "",
            "_view_module": "@jupyter-widgets/base",
            "_model_module_version": "1.5.0",
            "_view_count": null,
            "_view_module_version": "1.2.0",
            "_model_module": "@jupyter-widgets/controls"
          }
        },
        "fbed8382448047248b558e882c113f8e": {
          "model_module": "@jupyter-widgets/base",
          "model_name": "LayoutModel",
          "model_module_version": "1.2.0",
          "state": {
            "_view_name": "LayoutView",
            "grid_template_rows": null,
            "right": null,
            "justify_content": null,
            "_view_module": "@jupyter-widgets/base",
            "overflow": null,
            "_model_module_version": "1.2.0",
            "_view_count": null,
            "flex_flow": null,
            "width": null,
            "min_width": null,
            "border": null,
            "align_items": null,
            "bottom": null,
            "_model_module": "@jupyter-widgets/base",
            "top": null,
            "grid_column": null,
            "overflow_y": null,
            "overflow_x": null,
            "grid_auto_flow": null,
            "grid_area": null,
            "grid_template_columns": null,
            "flex": null,
            "_model_name": "LayoutModel",
            "justify_items": null,
            "grid_row": null,
            "max_height": null,
            "align_content": null,
            "visibility": null,
            "align_self": null,
            "height": null,
            "min_height": null,
            "padding": null,
            "grid_auto_rows": null,
            "grid_gap": null,
            "max_width": null,
            "order": null,
            "_view_module_version": "1.2.0",
            "grid_template_areas": null,
            "object_position": null,
            "object_fit": null,
            "grid_auto_columns": null,
            "margin": null,
            "display": null,
            "left": null
          }
        },
        "0ac3d816422a4cfabb7e8a89ebafc462": {
          "model_module": "@jupyter-widgets/controls",
          "model_name": "HBoxModel",
          "model_module_version": "1.5.0",
          "state": {
            "_view_name": "HBoxView",
            "_dom_classes": [],
            "_model_name": "HBoxModel",
            "_view_module": "@jupyter-widgets/controls",
            "_model_module_version": "1.5.0",
            "_view_count": null,
            "_view_module_version": "1.5.0",
            "box_style": "",
            "layout": "IPY_MODEL_70ba207a43e24a0a8f7ef47b2c5d3cea",
            "_model_module": "@jupyter-widgets/controls",
            "children": [
              "IPY_MODEL_2e0552c8aea94d64b20568f4bc20a4ea",
              "IPY_MODEL_3ecb08d227ff4efd88503c85bc5b5836",
              "IPY_MODEL_1c55ae5e4f684de898d3c0e68a878e16"
            ]
          }
        },
        "70ba207a43e24a0a8f7ef47b2c5d3cea": {
          "model_module": "@jupyter-widgets/base",
          "model_name": "LayoutModel",
          "model_module_version": "1.2.0",
          "state": {
            "_view_name": "LayoutView",
            "grid_template_rows": null,
            "right": null,
            "justify_content": null,
            "_view_module": "@jupyter-widgets/base",
            "overflow": null,
            "_model_module_version": "1.2.0",
            "_view_count": null,
            "flex_flow": null,
            "width": null,
            "min_width": null,
            "border": null,
            "align_items": null,
            "bottom": null,
            "_model_module": "@jupyter-widgets/base",
            "top": null,
            "grid_column": null,
            "overflow_y": null,
            "overflow_x": null,
            "grid_auto_flow": null,
            "grid_area": null,
            "grid_template_columns": null,
            "flex": null,
            "_model_name": "LayoutModel",
            "justify_items": null,
            "grid_row": null,
            "max_height": null,
            "align_content": null,
            "visibility": null,
            "align_self": null,
            "height": null,
            "min_height": null,
            "padding": null,
            "grid_auto_rows": null,
            "grid_gap": null,
            "max_width": null,
            "order": null,
            "_view_module_version": "1.2.0",
            "grid_template_areas": null,
            "object_position": null,
            "object_fit": null,
            "grid_auto_columns": null,
            "margin": null,
            "display": null,
            "left": null
          }
        },
        "2e0552c8aea94d64b20568f4bc20a4ea": {
          "model_module": "@jupyter-widgets/controls",
          "model_name": "HTMLModel",
          "model_module_version": "1.5.0",
          "state": {
            "_view_name": "HTMLView",
            "style": "IPY_MODEL_c5207f0aab6f4853b003f105d2e04179",
            "_dom_classes": [],
            "description": "",
            "_model_name": "HTMLModel",
            "placeholder": "​",
            "_view_module": "@jupyter-widgets/controls",
            "_model_module_version": "1.5.0",
            "value": "Export report to file: 100%",
            "_view_count": null,
            "_view_module_version": "1.5.0",
            "description_tooltip": null,
            "_model_module": "@jupyter-widgets/controls",
            "layout": "IPY_MODEL_95a3cc1bda9d4619bd14d7c6aedd4da3"
          }
        },
        "3ecb08d227ff4efd88503c85bc5b5836": {
          "model_module": "@jupyter-widgets/controls",
          "model_name": "FloatProgressModel",
          "model_module_version": "1.5.0",
          "state": {
            "_view_name": "ProgressView",
            "style": "IPY_MODEL_59193d832503483cadad98b08df1cf44",
            "_dom_classes": [],
            "description": "",
            "_model_name": "FloatProgressModel",
            "bar_style": "success",
            "max": 1,
            "_view_module": "@jupyter-widgets/controls",
            "_model_module_version": "1.5.0",
            "value": 1,
            "_view_count": null,
            "_view_module_version": "1.5.0",
            "orientation": "horizontal",
            "min": 0,
            "description_tooltip": null,
            "_model_module": "@jupyter-widgets/controls",
            "layout": "IPY_MODEL_ac00bd2ce9214ea99d8efae6f1b52e38"
          }
        },
        "1c55ae5e4f684de898d3c0e68a878e16": {
          "model_module": "@jupyter-widgets/controls",
          "model_name": "HTMLModel",
          "model_module_version": "1.5.0",
          "state": {
            "_view_name": "HTMLView",
            "style": "IPY_MODEL_e63f3668292e471c9baee9972de1ebc6",
            "_dom_classes": [],
            "description": "",
            "_model_name": "HTMLModel",
            "placeholder": "​",
            "_view_module": "@jupyter-widgets/controls",
            "_model_module_version": "1.5.0",
            "value": " 1/1 [00:00&lt;00:00, 11.70it/s]",
            "_view_count": null,
            "_view_module_version": "1.5.0",
            "description_tooltip": null,
            "_model_module": "@jupyter-widgets/controls",
            "layout": "IPY_MODEL_d9e1eb4059c542ab83eb97c8bd5aa1f2"
          }
        },
        "c5207f0aab6f4853b003f105d2e04179": {
          "model_module": "@jupyter-widgets/controls",
          "model_name": "DescriptionStyleModel",
          "model_module_version": "1.5.0",
          "state": {
            "_view_name": "StyleView",
            "_model_name": "DescriptionStyleModel",
            "description_width": "",
            "_view_module": "@jupyter-widgets/base",
            "_model_module_version": "1.5.0",
            "_view_count": null,
            "_view_module_version": "1.2.0",
            "_model_module": "@jupyter-widgets/controls"
          }
        },
        "95a3cc1bda9d4619bd14d7c6aedd4da3": {
          "model_module": "@jupyter-widgets/base",
          "model_name": "LayoutModel",
          "model_module_version": "1.2.0",
          "state": {
            "_view_name": "LayoutView",
            "grid_template_rows": null,
            "right": null,
            "justify_content": null,
            "_view_module": "@jupyter-widgets/base",
            "overflow": null,
            "_model_module_version": "1.2.0",
            "_view_count": null,
            "flex_flow": null,
            "width": null,
            "min_width": null,
            "border": null,
            "align_items": null,
            "bottom": null,
            "_model_module": "@jupyter-widgets/base",
            "top": null,
            "grid_column": null,
            "overflow_y": null,
            "overflow_x": null,
            "grid_auto_flow": null,
            "grid_area": null,
            "grid_template_columns": null,
            "flex": null,
            "_model_name": "LayoutModel",
            "justify_items": null,
            "grid_row": null,
            "max_height": null,
            "align_content": null,
            "visibility": null,
            "align_self": null,
            "height": null,
            "min_height": null,
            "padding": null,
            "grid_auto_rows": null,
            "grid_gap": null,
            "max_width": null,
            "order": null,
            "_view_module_version": "1.2.0",
            "grid_template_areas": null,
            "object_position": null,
            "object_fit": null,
            "grid_auto_columns": null,
            "margin": null,
            "display": null,
            "left": null
          }
        },
        "59193d832503483cadad98b08df1cf44": {
          "model_module": "@jupyter-widgets/controls",
          "model_name": "ProgressStyleModel",
          "model_module_version": "1.5.0",
          "state": {
            "_view_name": "StyleView",
            "_model_name": "ProgressStyleModel",
            "description_width": "",
            "_view_module": "@jupyter-widgets/base",
            "_model_module_version": "1.5.0",
            "_view_count": null,
            "_view_module_version": "1.2.0",
            "bar_color": null,
            "_model_module": "@jupyter-widgets/controls"
          }
        },
        "ac00bd2ce9214ea99d8efae6f1b52e38": {
          "model_module": "@jupyter-widgets/base",
          "model_name": "LayoutModel",
          "model_module_version": "1.2.0",
          "state": {
            "_view_name": "LayoutView",
            "grid_template_rows": null,
            "right": null,
            "justify_content": null,
            "_view_module": "@jupyter-widgets/base",
            "overflow": null,
            "_model_module_version": "1.2.0",
            "_view_count": null,
            "flex_flow": null,
            "width": null,
            "min_width": null,
            "border": null,
            "align_items": null,
            "bottom": null,
            "_model_module": "@jupyter-widgets/base",
            "top": null,
            "grid_column": null,
            "overflow_y": null,
            "overflow_x": null,
            "grid_auto_flow": null,
            "grid_area": null,
            "grid_template_columns": null,
            "flex": null,
            "_model_name": "LayoutModel",
            "justify_items": null,
            "grid_row": null,
            "max_height": null,
            "align_content": null,
            "visibility": null,
            "align_self": null,
            "height": null,
            "min_height": null,
            "padding": null,
            "grid_auto_rows": null,
            "grid_gap": null,
            "max_width": null,
            "order": null,
            "_view_module_version": "1.2.0",
            "grid_template_areas": null,
            "object_position": null,
            "object_fit": null,
            "grid_auto_columns": null,
            "margin": null,
            "display": null,
            "left": null
          }
        },
        "e63f3668292e471c9baee9972de1ebc6": {
          "model_module": "@jupyter-widgets/controls",
          "model_name": "DescriptionStyleModel",
          "model_module_version": "1.5.0",
          "state": {
            "_view_name": "StyleView",
            "_model_name": "DescriptionStyleModel",
            "description_width": "",
            "_view_module": "@jupyter-widgets/base",
            "_model_module_version": "1.5.0",
            "_view_count": null,
            "_view_module_version": "1.2.0",
            "_model_module": "@jupyter-widgets/controls"
          }
        },
        "d9e1eb4059c542ab83eb97c8bd5aa1f2": {
          "model_module": "@jupyter-widgets/base",
          "model_name": "LayoutModel",
          "model_module_version": "1.2.0",
          "state": {
            "_view_name": "LayoutView",
            "grid_template_rows": null,
            "right": null,
            "justify_content": null,
            "_view_module": "@jupyter-widgets/base",
            "overflow": null,
            "_model_module_version": "1.2.0",
            "_view_count": null,
            "flex_flow": null,
            "width": null,
            "min_width": null,
            "border": null,
            "align_items": null,
            "bottom": null,
            "_model_module": "@jupyter-widgets/base",
            "top": null,
            "grid_column": null,
            "overflow_y": null,
            "overflow_x": null,
            "grid_auto_flow": null,
            "grid_area": null,
            "grid_template_columns": null,
            "flex": null,
            "_model_name": "LayoutModel",
            "justify_items": null,
            "grid_row": null,
            "max_height": null,
            "align_content": null,
            "visibility": null,
            "align_self": null,
            "height": null,
            "min_height": null,
            "padding": null,
            "grid_auto_rows": null,
            "grid_gap": null,
            "max_width": null,
            "order": null,
            "_view_module_version": "1.2.0",
            "grid_template_areas": null,
            "object_position": null,
            "object_fit": null,
            "grid_auto_columns": null,
            "margin": null,
            "display": null,
            "left": null
          }
        }
      }
    }
  },
  "cells": [
    {
      "cell_type": "markdown",
      "metadata": {
        "id": "5XJz0FIVX9O8"
      },
      "source": [
        "<p align=\"center\"><img src=\"https://github.com/insaid2018/Term-1/blob/master/Images/INSAID_Full%20Logo.png?raw=true\" width=\"260\" height=\"110\" /></p>\n",
        "<br>\n",
        "<center><h1><b>Project - Analysis on Facebook Utilization</h1></b></center>\n"
      ]
    },
    {
      "cell_type": "markdown",
      "metadata": {
        "id": "NWvRwRdGoK5Y"
      },
      "source": [
        "---\n",
        "# **Table of Contents**\n",
        "---\n",
        "\n",
        "1. [**Introduction**](#Section1)<br>\n",
        "2. [**Problem Statement**](#Section2)<br>\n",
        "3. [**Installing & Importing Libraries**](#Section3)<br>\n",
        "  3.1 [**Installing Libraries**](#Section31)<br>\n",
        "  3.2 [**Upgrading Libraries**](#Section32)<br>\n",
        "  3.3 [**Importing Libraries**](#Section33)<br>\n",
        "4. [**Data Acquisition & Description**](#Section4)<br>\n",
        "5. [**Data Pre-Profiling**](#Section5)<br>\n",
        "6. [**Data Pre-Processing**](#Section6)<br>\n",
        "7. [**Data Post-Profiling**](#Section7)<br>\n",
        "8. [**Exploratory Data Analysis**](#Section8)<br>\n",
        "9. [**Summarization**](#Section9)</br>\n",
        "  9.1 [**Conclusion**](#Section91)</br>\n",
        "  9.2 [**Actionable Insights**](#Section91)</br>\n",
        "\n",
        "---"
      ]
    },
    {
      "cell_type": "markdown",
      "metadata": {
        "id": "iACv_4iIoaLi"
      },
      "source": [
        "<p align=\"center\"><img src=\"https://chi2016.acm.org/wp/wp-content/uploads/2016/02/Facebook-06-2015-Blue.png\" width=500></p>\n",
        "\n",
        "---\n",
        "<a name = Section1></a>\n",
        "# **1. Introduction**\n",
        "---\n",
        "\n",
        "- Facebook is an American online **social media and networking service**, founded by Mark Zuckerberg in 2004.\n",
        "\n",
        "- People stay connected with friends and family, interact and discover what's going on in the world.\n",
        "\n",
        "- It has **2.85 billion monthly active users**, India contributes maximum among all countries.\n",
        "\n",
        "- Available in 111 languages.\n",
        "\n",
        "- Facebook is the **3rd most popular site in the world** next to\n",
        "Google and YouTube.\n",
        "\n",
        "- As of March 2021, it is ranked 7th in global internet usage."
      ]
    },
    {
      "cell_type": "markdown",
      "metadata": {
        "id": "sOGJAM3AoePy"
      },
      "source": [
        "---\n",
        "<a name = Section2></a>\n",
        "# **2. Problem Statement**\n",
        "---\n",
        "\n",
        " - People from all over the world are using Facebook as a medium to express their feelings and what matters to them. \n",
        "\n",
        " - With billions of users, lots of data are generated everyday.\n",
        "\n",
        " - A study of the **user behaviour** and **demographics** will help us understand the **distribution**, **correlation** and **trends**.\n",
        "\n",
        " - The aim of this report is to perform an **exploratory analysis** to identify any **underlying patterns** and acquire **meaningful insights**.\n",
        "\n",
        " - Analyzing these differences can help Facebook \n",
        "   - **Stay updated with latest technologies**\n",
        "   - **Improve customer experience**\n",
        "  "
      ]
    },
    {
      "cell_type": "markdown",
      "metadata": {
        "id": "yzSAH3m9pLWi"
      },
      "source": [
        "---\n",
        "<a id = Section3></a>\n",
        "# **3. Installing & Importing Libraries**\n",
        "---\n",
        "\n",
        "- This section is emphasised on installing and importing the necessary libraries that will be required."
      ]
    },
    {
      "cell_type": "markdown",
      "metadata": {
        "id": "M0y7joFPpOuQ"
      },
      "source": [
        "### **Installing Libraries**"
      ]
    },
    {
      "cell_type": "code",
      "metadata": {
        "id": "S3pqantTnmxX",
        "colab": {
          "base_uri": "https://localhost:8080/"
        },
        "outputId": "376cdd82-c6c9-426f-eec4-254015dceedb"
      },
      "source": [
        "!pip install -q datascience                                         \n",
        "!pip install -q pandas-profiling                                    "
      ],
      "execution_count": null,
      "outputs": [
        {
          "output_type": "stream",
          "name": "stdout",
          "text": [
            "\u001b[?25l\r\u001b[K     |████▊                           | 10 kB 19.9 MB/s eta 0:00:01\r\u001b[K     |█████████▍                      | 20 kB 22.9 MB/s eta 0:00:01\r\u001b[K     |██████████████                  | 30 kB 26.6 MB/s eta 0:00:01\r\u001b[K     |██████████████████▊             | 40 kB 29.3 MB/s eta 0:00:01\r\u001b[K     |███████████████████████▍        | 51 kB 31.9 MB/s eta 0:00:01\r\u001b[K     |████████████████████████████    | 61 kB 34.6 MB/s eta 0:00:01\r\u001b[K     |████████████████████████████████| 69 kB 6.5 MB/s \n",
            "\u001b[?25h  Building wheel for folium (setup.py) ... \u001b[?25l\u001b[?25hdone\n"
          ]
        }
      ]
    },
    {
      "cell_type": "markdown",
      "metadata": {
        "id": "pYQrkcl4pe8J"
      },
      "source": [
        "### **Upgrading Libraries**\n"
      ]
    },
    {
      "cell_type": "code",
      "metadata": {
        "id": "dmiiVvd-phhY"
      },
      "source": [
        "!pip install -q --upgrade pandas-profiling                          "
      ],
      "execution_count": null,
      "outputs": []
    },
    {
      "cell_type": "markdown",
      "metadata": {
        "id": "PbyRyjDhpoJj"
      },
      "source": [
        "### **Importing Libraries**\n",
        "\n"
      ]
    },
    {
      "cell_type": "code",
      "metadata": {
        "id": "5RapekFlpptb"
      },
      "source": [
        "import pandas as pd                                                 \n",
        "from pandas_profiling import ProfileReport   \n",
        "\n",
        "import numpy as np  \n",
        "\n",
        "import matplotlib.pyplot as plt                                     \n",
        "import seaborn as sns                                              \n",
        "%matplotlib inline\n",
        "\n",
        "import scipy as sp                                                  "
      ],
      "execution_count": 1,
      "outputs": []
    },
    {
      "cell_type": "markdown",
      "metadata": {
        "id": "ys9Qb4OlpzvZ"
      },
      "source": [
        "---\n",
        "<a name = Section4></a>\n",
        "# **4. Data Acquisition & Description**\n",
        "---\n",
        "- The dataset contains information about **Facebook utilization** of around **1 lakh people**.\n",
        "\n",
        "<br>\n",
        "\n",
        "|Id|Feature|Description|\n",
        "|:--|:--|:--|\n",
        "|01| userid                 | A numeric value uniquely identifying the user.|\n",
        "|02| age                    | Age of the user in years.|\n",
        "|03| dob_day                | Day part of the user's date of birth.|\n",
        "|04| dob_year               | Year part of the user's date of birth.| \n",
        "|05| dob_month              | Month part of the user's date of birth.|\n",
        "|06| gender                 | Gender of the user.| \n",
        "|07| tenure                 | Number of days since the user has been on FB.|\n",
        "|08| friend_count           | Number of friends the user has.|\n",
        "|09| friendships_initiated  | Number of friendships initiated by the user.|\n",
        "|10| likes                  | Total number of posts liked by the user.|\n",
        "|11| likes_received         | Total Number of likes received by user's posts.|\n",
        "|12| mobile_likes           | Number of posts liked by the user through mobile app.|\n",
        "|13| mobile_likes_received  | Number of likes received by user through mobile app.|\n",
        "|14| www_likes              | Number of posts liked by the user through web.|\n",
        "|15| www_likes_received     | Number of likes received by user  through web.| \n",
        "\n",
        "<br>\n",
        "\n",
        "- The shape( ) function returns the size of the dataframe as rows x columns.\n",
        "- The head( ) function is used to get the first 'n' rows. "
      ]
    },
    {
      "cell_type": "code",
      "metadata": {
        "id": "aXPrewndpw1T",
        "colab": {
          "base_uri": "https://localhost:8080/",
          "height": 243
        },
        "outputId": "941d75c8-0fb0-4426-eb97-3869aa5ff0af"
      },
      "source": [
        "data = pd.read_csv(filepath_or_buffer = 'https://raw.githubusercontent.com/insaid2018/Term-1/master/Data/Projects/facebook_data.csv')\n",
        "print('Data Shape:', data.shape)\n",
        "data.head()"
      ],
      "execution_count": 2,
      "outputs": [
        {
          "output_type": "stream",
          "name": "stdout",
          "text": [
            "Data Shape: (99003, 15)\n"
          ]
        },
        {
          "output_type": "execute_result",
          "data": {
            "text/html": [
              "<div>\n",
              "<style scoped>\n",
              "    .dataframe tbody tr th:only-of-type {\n",
              "        vertical-align: middle;\n",
              "    }\n",
              "\n",
              "    .dataframe tbody tr th {\n",
              "        vertical-align: top;\n",
              "    }\n",
              "\n",
              "    .dataframe thead th {\n",
              "        text-align: right;\n",
              "    }\n",
              "</style>\n",
              "<table border=\"1\" class=\"dataframe\">\n",
              "  <thead>\n",
              "    <tr style=\"text-align: right;\">\n",
              "      <th></th>\n",
              "      <th>userid</th>\n",
              "      <th>age</th>\n",
              "      <th>dob_day</th>\n",
              "      <th>dob_year</th>\n",
              "      <th>dob_month</th>\n",
              "      <th>gender</th>\n",
              "      <th>tenure</th>\n",
              "      <th>friend_count</th>\n",
              "      <th>friendships_initiated</th>\n",
              "      <th>likes</th>\n",
              "      <th>likes_received</th>\n",
              "      <th>mobile_likes</th>\n",
              "      <th>mobile_likes_received</th>\n",
              "      <th>www_likes</th>\n",
              "      <th>www_likes_received</th>\n",
              "    </tr>\n",
              "  </thead>\n",
              "  <tbody>\n",
              "    <tr>\n",
              "      <th>0</th>\n",
              "      <td>2094382</td>\n",
              "      <td>14</td>\n",
              "      <td>19</td>\n",
              "      <td>1999</td>\n",
              "      <td>11</td>\n",
              "      <td>male</td>\n",
              "      <td>266.0</td>\n",
              "      <td>0</td>\n",
              "      <td>0</td>\n",
              "      <td>0</td>\n",
              "      <td>0</td>\n",
              "      <td>0</td>\n",
              "      <td>0</td>\n",
              "      <td>0</td>\n",
              "      <td>0</td>\n",
              "    </tr>\n",
              "    <tr>\n",
              "      <th>1</th>\n",
              "      <td>1192601</td>\n",
              "      <td>14</td>\n",
              "      <td>2</td>\n",
              "      <td>1999</td>\n",
              "      <td>11</td>\n",
              "      <td>female</td>\n",
              "      <td>6.0</td>\n",
              "      <td>0</td>\n",
              "      <td>0</td>\n",
              "      <td>0</td>\n",
              "      <td>0</td>\n",
              "      <td>0</td>\n",
              "      <td>0</td>\n",
              "      <td>0</td>\n",
              "      <td>0</td>\n",
              "    </tr>\n",
              "    <tr>\n",
              "      <th>2</th>\n",
              "      <td>2083884</td>\n",
              "      <td>14</td>\n",
              "      <td>16</td>\n",
              "      <td>1999</td>\n",
              "      <td>11</td>\n",
              "      <td>male</td>\n",
              "      <td>13.0</td>\n",
              "      <td>0</td>\n",
              "      <td>0</td>\n",
              "      <td>0</td>\n",
              "      <td>0</td>\n",
              "      <td>0</td>\n",
              "      <td>0</td>\n",
              "      <td>0</td>\n",
              "      <td>0</td>\n",
              "    </tr>\n",
              "    <tr>\n",
              "      <th>3</th>\n",
              "      <td>1203168</td>\n",
              "      <td>14</td>\n",
              "      <td>25</td>\n",
              "      <td>1999</td>\n",
              "      <td>12</td>\n",
              "      <td>female</td>\n",
              "      <td>93.0</td>\n",
              "      <td>0</td>\n",
              "      <td>0</td>\n",
              "      <td>0</td>\n",
              "      <td>0</td>\n",
              "      <td>0</td>\n",
              "      <td>0</td>\n",
              "      <td>0</td>\n",
              "      <td>0</td>\n",
              "    </tr>\n",
              "    <tr>\n",
              "      <th>4</th>\n",
              "      <td>1733186</td>\n",
              "      <td>14</td>\n",
              "      <td>4</td>\n",
              "      <td>1999</td>\n",
              "      <td>12</td>\n",
              "      <td>male</td>\n",
              "      <td>82.0</td>\n",
              "      <td>0</td>\n",
              "      <td>0</td>\n",
              "      <td>0</td>\n",
              "      <td>0</td>\n",
              "      <td>0</td>\n",
              "      <td>0</td>\n",
              "      <td>0</td>\n",
              "      <td>0</td>\n",
              "    </tr>\n",
              "  </tbody>\n",
              "</table>\n",
              "</div>"
            ],
            "text/plain": [
              "    userid  age  dob_day  ...  mobile_likes_received  www_likes www_likes_received\n",
              "0  2094382   14       19  ...                      0          0                  0\n",
              "1  1192601   14        2  ...                      0          0                  0\n",
              "2  2083884   14       16  ...                      0          0                  0\n",
              "3  1203168   14       25  ...                      0          0                  0\n",
              "4  1733186   14        4  ...                      0          0                  0\n",
              "\n",
              "[5 rows x 15 columns]"
            ]
          },
          "metadata": {},
          "execution_count": 2
        }
      ]
    },
    {
      "cell_type": "markdown",
      "metadata": {
        "id": "FfkdFrL_qMPn"
      },
      "source": [
        "### **Data Description**\n",
        "\n",
        "- Describe method gives some quick description out of the data like\n",
        " - count of variables\n",
        " - maximum, minimum and mean of numerical data\n",
        " - standard deviation\n",
        " - interquartile range"
      ]
    },
    {
      "cell_type": "code",
      "metadata": {
        "id": "cLs4jsSuqJjC",
        "colab": {
          "base_uri": "https://localhost:8080/",
          "height": 320
        },
        "outputId": "992b559e-fbba-403f-c1ae-3ddbe1715d08"
      },
      "source": [
        "data.describe()"
      ],
      "execution_count": null,
      "outputs": [
        {
          "output_type": "execute_result",
          "data": {
            "text/html": [
              "<div>\n",
              "<style scoped>\n",
              "    .dataframe tbody tr th:only-of-type {\n",
              "        vertical-align: middle;\n",
              "    }\n",
              "\n",
              "    .dataframe tbody tr th {\n",
              "        vertical-align: top;\n",
              "    }\n",
              "\n",
              "    .dataframe thead th {\n",
              "        text-align: right;\n",
              "    }\n",
              "</style>\n",
              "<table border=\"1\" class=\"dataframe\">\n",
              "  <thead>\n",
              "    <tr style=\"text-align: right;\">\n",
              "      <th></th>\n",
              "      <th>userid</th>\n",
              "      <th>age</th>\n",
              "      <th>dob_day</th>\n",
              "      <th>dob_year</th>\n",
              "      <th>dob_month</th>\n",
              "      <th>tenure</th>\n",
              "      <th>friend_count</th>\n",
              "      <th>friendships_initiated</th>\n",
              "      <th>likes</th>\n",
              "      <th>likes_received</th>\n",
              "      <th>mobile_likes</th>\n",
              "      <th>mobile_likes_received</th>\n",
              "      <th>www_likes</th>\n",
              "      <th>www_likes_received</th>\n",
              "    </tr>\n",
              "  </thead>\n",
              "  <tbody>\n",
              "    <tr>\n",
              "      <th>count</th>\n",
              "      <td>9.900300e+04</td>\n",
              "      <td>99003.000000</td>\n",
              "      <td>99003.000000</td>\n",
              "      <td>99003.000000</td>\n",
              "      <td>99003.000000</td>\n",
              "      <td>99001.000000</td>\n",
              "      <td>99003.000000</td>\n",
              "      <td>99003.000000</td>\n",
              "      <td>99003.000000</td>\n",
              "      <td>99003.000000</td>\n",
              "      <td>99003.000000</td>\n",
              "      <td>99003.000000</td>\n",
              "      <td>99003.000000</td>\n",
              "      <td>99003.000000</td>\n",
              "    </tr>\n",
              "    <tr>\n",
              "      <th>mean</th>\n",
              "      <td>1.597045e+06</td>\n",
              "      <td>37.280224</td>\n",
              "      <td>14.530408</td>\n",
              "      <td>1975.719776</td>\n",
              "      <td>6.283365</td>\n",
              "      <td>537.887375</td>\n",
              "      <td>196.350787</td>\n",
              "      <td>107.452471</td>\n",
              "      <td>156.078785</td>\n",
              "      <td>142.689363</td>\n",
              "      <td>106.116300</td>\n",
              "      <td>84.120491</td>\n",
              "      <td>49.962425</td>\n",
              "      <td>58.568831</td>\n",
              "    </tr>\n",
              "    <tr>\n",
              "      <th>std</th>\n",
              "      <td>3.440592e+05</td>\n",
              "      <td>22.589748</td>\n",
              "      <td>9.015606</td>\n",
              "      <td>22.589748</td>\n",
              "      <td>3.529672</td>\n",
              "      <td>457.649874</td>\n",
              "      <td>387.304229</td>\n",
              "      <td>188.786951</td>\n",
              "      <td>572.280681</td>\n",
              "      <td>1387.919613</td>\n",
              "      <td>445.252985</td>\n",
              "      <td>839.889444</td>\n",
              "      <td>285.560152</td>\n",
              "      <td>601.416348</td>\n",
              "    </tr>\n",
              "    <tr>\n",
              "      <th>min</th>\n",
              "      <td>1.000008e+06</td>\n",
              "      <td>13.000000</td>\n",
              "      <td>1.000000</td>\n",
              "      <td>1900.000000</td>\n",
              "      <td>1.000000</td>\n",
              "      <td>0.000000</td>\n",
              "      <td>0.000000</td>\n",
              "      <td>0.000000</td>\n",
              "      <td>0.000000</td>\n",
              "      <td>0.000000</td>\n",
              "      <td>0.000000</td>\n",
              "      <td>0.000000</td>\n",
              "      <td>0.000000</td>\n",
              "      <td>0.000000</td>\n",
              "    </tr>\n",
              "    <tr>\n",
              "      <th>25%</th>\n",
              "      <td>1.298806e+06</td>\n",
              "      <td>20.000000</td>\n",
              "      <td>7.000000</td>\n",
              "      <td>1963.000000</td>\n",
              "      <td>3.000000</td>\n",
              "      <td>226.000000</td>\n",
              "      <td>31.000000</td>\n",
              "      <td>17.000000</td>\n",
              "      <td>1.000000</td>\n",
              "      <td>1.000000</td>\n",
              "      <td>0.000000</td>\n",
              "      <td>0.000000</td>\n",
              "      <td>0.000000</td>\n",
              "      <td>0.000000</td>\n",
              "    </tr>\n",
              "    <tr>\n",
              "      <th>50%</th>\n",
              "      <td>1.596148e+06</td>\n",
              "      <td>28.000000</td>\n",
              "      <td>14.000000</td>\n",
              "      <td>1985.000000</td>\n",
              "      <td>6.000000</td>\n",
              "      <td>412.000000</td>\n",
              "      <td>82.000000</td>\n",
              "      <td>46.000000</td>\n",
              "      <td>11.000000</td>\n",
              "      <td>8.000000</td>\n",
              "      <td>4.000000</td>\n",
              "      <td>4.000000</td>\n",
              "      <td>0.000000</td>\n",
              "      <td>2.000000</td>\n",
              "    </tr>\n",
              "    <tr>\n",
              "      <th>75%</th>\n",
              "      <td>1.895744e+06</td>\n",
              "      <td>50.000000</td>\n",
              "      <td>22.000000</td>\n",
              "      <td>1993.000000</td>\n",
              "      <td>9.000000</td>\n",
              "      <td>675.000000</td>\n",
              "      <td>206.000000</td>\n",
              "      <td>117.000000</td>\n",
              "      <td>81.000000</td>\n",
              "      <td>59.000000</td>\n",
              "      <td>46.000000</td>\n",
              "      <td>33.000000</td>\n",
              "      <td>7.000000</td>\n",
              "      <td>20.000000</td>\n",
              "    </tr>\n",
              "    <tr>\n",
              "      <th>max</th>\n",
              "      <td>2.193542e+06</td>\n",
              "      <td>113.000000</td>\n",
              "      <td>31.000000</td>\n",
              "      <td>2000.000000</td>\n",
              "      <td>12.000000</td>\n",
              "      <td>3139.000000</td>\n",
              "      <td>4923.000000</td>\n",
              "      <td>4144.000000</td>\n",
              "      <td>25111.000000</td>\n",
              "      <td>261197.000000</td>\n",
              "      <td>25111.000000</td>\n",
              "      <td>138561.000000</td>\n",
              "      <td>14865.000000</td>\n",
              "      <td>129953.000000</td>\n",
              "    </tr>\n",
              "  </tbody>\n",
              "</table>\n",
              "</div>"
            ],
            "text/plain": [
              "             userid           age  ...     www_likes  www_likes_received\n",
              "count  9.900300e+04  99003.000000  ...  99003.000000        99003.000000\n",
              "mean   1.597045e+06     37.280224  ...     49.962425           58.568831\n",
              "std    3.440592e+05     22.589748  ...    285.560152          601.416348\n",
              "min    1.000008e+06     13.000000  ...      0.000000            0.000000\n",
              "25%    1.298806e+06     20.000000  ...      0.000000            0.000000\n",
              "50%    1.596148e+06     28.000000  ...      0.000000            2.000000\n",
              "75%    1.895744e+06     50.000000  ...      7.000000           20.000000\n",
              "max    2.193542e+06    113.000000  ...  14865.000000       129953.000000\n",
              "\n",
              "[8 rows x 14 columns]"
            ]
          },
          "metadata": {},
          "execution_count": 8
        }
      ]
    },
    {
      "cell_type": "markdown",
      "metadata": {
        "id": "rxiMbnPUbVRQ"
      },
      "source": [
        "#### **Observation**\n",
        "\n",
        "- The mean age of users is 37, which means target is young population.\n",
        "- Mobile usage of Facebook is almost twice the web usage.\n",
        "- Many columns with zero values, chances of inactive accounts."
      ]
    },
    {
      "cell_type": "markdown",
      "metadata": {
        "id": "lM-hljKpqXsp"
      },
      "source": [
        "### **Data Information**\n",
        "- The info( ) function gives details about the columns i.e. \n",
        " - Column name\n",
        " - Total count of each variable\n",
        " - Dtype\n",
        " - is null or not"
      ]
    },
    {
      "cell_type": "code",
      "metadata": {
        "id": "aPYZy6voqXc4",
        "colab": {
          "base_uri": "https://localhost:8080/"
        },
        "outputId": "674f58e9-65df-4288-984a-75c5b3724dfa"
      },
      "source": [
        "data.info()"
      ],
      "execution_count": null,
      "outputs": [
        {
          "output_type": "stream",
          "name": "stdout",
          "text": [
            "<class 'pandas.core.frame.DataFrame'>\n",
            "RangeIndex: 99003 entries, 0 to 99002\n",
            "Data columns (total 16 columns):\n",
            " #   Column                 Non-Null Count  Dtype  \n",
            "---  ------                 --------------  -----  \n",
            " 0   userid                 99003 non-null  int64  \n",
            " 1   age                    99003 non-null  int64  \n",
            " 2   dob_day                99003 non-null  int64  \n",
            " 3   dob_year               99003 non-null  int64  \n",
            " 4   dob_month              99003 non-null  int64  \n",
            " 5   gender                 98828 non-null  object \n",
            " 6   tenure                 99001 non-null  float64\n",
            " 7   friend_count           99003 non-null  int64  \n",
            " 8   friendships_initiated  99003 non-null  int64  \n",
            " 9   likes                  99003 non-null  int64  \n",
            " 10  likes_received         99003 non-null  int64  \n",
            " 11  mobile_likes           99003 non-null  int64  \n",
            " 12  mobile_likes_received  99003 non-null  int64  \n",
            " 13  www_likes              99003 non-null  int64  \n",
            " 14  www_likes_received     99003 non-null  int64  \n",
            " 15  age_group              99003 non-null  object \n",
            "dtypes: float64(1), int64(13), object(2)\n",
            "memory usage: 12.1+ MB\n"
          ]
        }
      ]
    },
    {
      "cell_type": "markdown",
      "metadata": {
        "id": "2IO9lgNxbIJp"
      },
      "source": [
        "#### **Observation**\n",
        "\n",
        "- Contains 1 categorical and 14 numeric variables.\n",
        "- There are **missing** values present in **Gender** and **Tenure**. "
      ]
    },
    {
      "cell_type": "markdown",
      "metadata": {
        "id": "c_AT26U914ch"
      },
      "source": [
        "Correlation matrix shows the coefficient of relation between variables in the data as a range of values from -1 to 1.\n"
      ]
    },
    {
      "cell_type": "code",
      "metadata": {
        "colab": {
          "base_uri": "https://localhost:8080/",
          "height": 508
        },
        "id": "eLlZTAY6Tbtr",
        "outputId": "df116f01-afc3-495c-91c9-cb6cb0127816"
      },
      "source": [
        "data.corr()"
      ],
      "execution_count": null,
      "outputs": [
        {
          "output_type": "execute_result",
          "data": {
            "text/html": [
              "<div>\n",
              "<style scoped>\n",
              "    .dataframe tbody tr th:only-of-type {\n",
              "        vertical-align: middle;\n",
              "    }\n",
              "\n",
              "    .dataframe tbody tr th {\n",
              "        vertical-align: top;\n",
              "    }\n",
              "\n",
              "    .dataframe thead th {\n",
              "        text-align: right;\n",
              "    }\n",
              "</style>\n",
              "<table border=\"1\" class=\"dataframe\">\n",
              "  <thead>\n",
              "    <tr style=\"text-align: right;\">\n",
              "      <th></th>\n",
              "      <th>userid</th>\n",
              "      <th>age</th>\n",
              "      <th>dob_day</th>\n",
              "      <th>dob_year</th>\n",
              "      <th>dob_month</th>\n",
              "      <th>tenure</th>\n",
              "      <th>friend_count</th>\n",
              "      <th>friendships_initiated</th>\n",
              "      <th>likes</th>\n",
              "      <th>likes_received</th>\n",
              "      <th>mobile_likes</th>\n",
              "      <th>mobile_likes_received</th>\n",
              "      <th>www_likes</th>\n",
              "      <th>www_likes_received</th>\n",
              "    </tr>\n",
              "  </thead>\n",
              "  <tbody>\n",
              "    <tr>\n",
              "      <th>userid</th>\n",
              "      <td>1.000000</td>\n",
              "      <td>-0.007265</td>\n",
              "      <td>-0.000839</td>\n",
              "      <td>0.007265</td>\n",
              "      <td>0.002924</td>\n",
              "      <td>-0.003446</td>\n",
              "      <td>-0.001314</td>\n",
              "      <td>-0.001591</td>\n",
              "      <td>-0.002875</td>\n",
              "      <td>0.001526</td>\n",
              "      <td>-0.004868</td>\n",
              "      <td>0.001753</td>\n",
              "      <td>0.001828</td>\n",
              "      <td>0.001074</td>\n",
              "    </tr>\n",
              "    <tr>\n",
              "      <th>age</th>\n",
              "      <td>-0.007265</td>\n",
              "      <td>1.000000</td>\n",
              "      <td>0.035035</td>\n",
              "      <td>-1.000000</td>\n",
              "      <td>0.025167</td>\n",
              "      <td>0.462742</td>\n",
              "      <td>-0.027407</td>\n",
              "      <td>-0.058059</td>\n",
              "      <td>-0.013009</td>\n",
              "      <td>-0.022570</td>\n",
              "      <td>-0.026715</td>\n",
              "      <td>-0.024248</td>\n",
              "      <td>0.015585</td>\n",
              "      <td>-0.018224</td>\n",
              "    </tr>\n",
              "    <tr>\n",
              "      <th>dob_day</th>\n",
              "      <td>-0.000839</td>\n",
              "      <td>0.035035</td>\n",
              "      <td>1.000000</td>\n",
              "      <td>-0.035035</td>\n",
              "      <td>0.129443</td>\n",
              "      <td>0.041855</td>\n",
              "      <td>0.021961</td>\n",
              "      <td>0.022999</td>\n",
              "      <td>0.015980</td>\n",
              "      <td>0.001367</td>\n",
              "      <td>0.014541</td>\n",
              "      <td>0.000497</td>\n",
              "      <td>0.009353</td>\n",
              "      <td>0.002460</td>\n",
              "    </tr>\n",
              "    <tr>\n",
              "      <th>dob_year</th>\n",
              "      <td>0.007265</td>\n",
              "      <td>-1.000000</td>\n",
              "      <td>-0.035035</td>\n",
              "      <td>1.000000</td>\n",
              "      <td>-0.025167</td>\n",
              "      <td>-0.462742</td>\n",
              "      <td>0.027407</td>\n",
              "      <td>0.058059</td>\n",
              "      <td>0.013009</td>\n",
              "      <td>0.022570</td>\n",
              "      <td>0.026715</td>\n",
              "      <td>0.024248</td>\n",
              "      <td>-0.015585</td>\n",
              "      <td>0.018224</td>\n",
              "    </tr>\n",
              "    <tr>\n",
              "      <th>dob_month</th>\n",
              "      <td>0.002924</td>\n",
              "      <td>0.025167</td>\n",
              "      <td>0.129443</td>\n",
              "      <td>-0.025167</td>\n",
              "      <td>1.000000</td>\n",
              "      <td>0.029446</td>\n",
              "      <td>0.019804</td>\n",
              "      <td>0.020075</td>\n",
              "      <td>0.014147</td>\n",
              "      <td>0.006495</td>\n",
              "      <td>0.010400</td>\n",
              "      <td>0.006435</td>\n",
              "      <td>0.012136</td>\n",
              "      <td>0.006003</td>\n",
              "    </tr>\n",
              "    <tr>\n",
              "      <th>tenure</th>\n",
              "      <td>-0.003446</td>\n",
              "      <td>0.462742</td>\n",
              "      <td>0.041855</td>\n",
              "      <td>-0.462742</td>\n",
              "      <td>0.029446</td>\n",
              "      <td>1.000000</td>\n",
              "      <td>0.166256</td>\n",
              "      <td>0.133505</td>\n",
              "      <td>0.057132</td>\n",
              "      <td>0.027745</td>\n",
              "      <td>0.028052</td>\n",
              "      <td>0.023971</td>\n",
              "      <td>0.070757</td>\n",
              "      <td>0.030553</td>\n",
              "    </tr>\n",
              "    <tr>\n",
              "      <th>friend_count</th>\n",
              "      <td>-0.001314</td>\n",
              "      <td>-0.027407</td>\n",
              "      <td>0.021961</td>\n",
              "      <td>0.027407</td>\n",
              "      <td>0.019804</td>\n",
              "      <td>0.166256</td>\n",
              "      <td>1.000000</td>\n",
              "      <td>0.825850</td>\n",
              "      <td>0.298017</td>\n",
              "      <td>0.236463</td>\n",
              "      <td>0.235656</td>\n",
              "      <td>0.232701</td>\n",
              "      <td>0.229803</td>\n",
              "      <td>0.220727</td>\n",
              "    </tr>\n",
              "    <tr>\n",
              "      <th>friendships_initiated</th>\n",
              "      <td>-0.001591</td>\n",
              "      <td>-0.058059</td>\n",
              "      <td>0.022999</td>\n",
              "      <td>0.058059</td>\n",
              "      <td>0.020075</td>\n",
              "      <td>0.133505</td>\n",
              "      <td>0.825850</td>\n",
              "      <td>1.000000</td>\n",
              "      <td>0.285592</td>\n",
              "      <td>0.175131</td>\n",
              "      <td>0.229808</td>\n",
              "      <td>0.173804</td>\n",
              "      <td>0.214022</td>\n",
              "      <td>0.161439</td>\n",
              "    </tr>\n",
              "    <tr>\n",
              "      <th>likes</th>\n",
              "      <td>-0.002875</td>\n",
              "      <td>-0.013009</td>\n",
              "      <td>0.015980</td>\n",
              "      <td>0.013009</td>\n",
              "      <td>0.014147</td>\n",
              "      <td>0.057132</td>\n",
              "      <td>0.298017</td>\n",
              "      <td>0.285592</td>\n",
              "      <td>1.000000</td>\n",
              "      <td>0.327376</td>\n",
              "      <td>0.871652</td>\n",
              "      <td>0.329258</td>\n",
              "      <td>0.644960</td>\n",
              "      <td>0.295687</td>\n",
              "    </tr>\n",
              "    <tr>\n",
              "      <th>likes_received</th>\n",
              "      <td>0.001526</td>\n",
              "      <td>-0.022570</td>\n",
              "      <td>0.001367</td>\n",
              "      <td>0.022570</td>\n",
              "      <td>0.006495</td>\n",
              "      <td>0.027745</td>\n",
              "      <td>0.236463</td>\n",
              "      <td>0.175131</td>\n",
              "      <td>0.327376</td>\n",
              "      <td>1.000000</td>\n",
              "      <td>0.256998</td>\n",
              "      <td>0.973679</td>\n",
              "      <td>0.255365</td>\n",
              "      <td>0.947990</td>\n",
              "    </tr>\n",
              "    <tr>\n",
              "      <th>mobile_likes</th>\n",
              "      <td>-0.004868</td>\n",
              "      <td>-0.026715</td>\n",
              "      <td>0.014541</td>\n",
              "      <td>0.026715</td>\n",
              "      <td>0.010400</td>\n",
              "      <td>0.028052</td>\n",
              "      <td>0.235656</td>\n",
              "      <td>0.229808</td>\n",
              "      <td>0.871652</td>\n",
              "      <td>0.256998</td>\n",
              "      <td>1.000000</td>\n",
              "      <td>0.288513</td>\n",
              "      <td>0.187619</td>\n",
              "      <td>0.190173</td>\n",
              "    </tr>\n",
              "    <tr>\n",
              "      <th>mobile_likes_received</th>\n",
              "      <td>0.001753</td>\n",
              "      <td>-0.024248</td>\n",
              "      <td>0.000497</td>\n",
              "      <td>0.024248</td>\n",
              "      <td>0.006435</td>\n",
              "      <td>0.023971</td>\n",
              "      <td>0.232701</td>\n",
              "      <td>0.173804</td>\n",
              "      <td>0.329258</td>\n",
              "      <td>0.973679</td>\n",
              "      <td>0.288513</td>\n",
              "      <td>1.000000</td>\n",
              "      <td>0.209997</td>\n",
              "      <td>0.850490</td>\n",
              "    </tr>\n",
              "    <tr>\n",
              "      <th>www_likes</th>\n",
              "      <td>0.001828</td>\n",
              "      <td>0.015585</td>\n",
              "      <td>0.009353</td>\n",
              "      <td>-0.015585</td>\n",
              "      <td>0.012136</td>\n",
              "      <td>0.070757</td>\n",
              "      <td>0.229803</td>\n",
              "      <td>0.214022</td>\n",
              "      <td>0.644960</td>\n",
              "      <td>0.255365</td>\n",
              "      <td>0.187619</td>\n",
              "      <td>0.209997</td>\n",
              "      <td>1.000000</td>\n",
              "      <td>0.296053</td>\n",
              "    </tr>\n",
              "    <tr>\n",
              "      <th>www_likes_received</th>\n",
              "      <td>0.001074</td>\n",
              "      <td>-0.018224</td>\n",
              "      <td>0.002460</td>\n",
              "      <td>0.018224</td>\n",
              "      <td>0.006003</td>\n",
              "      <td>0.030553</td>\n",
              "      <td>0.220727</td>\n",
              "      <td>0.161439</td>\n",
              "      <td>0.295687</td>\n",
              "      <td>0.947990</td>\n",
              "      <td>0.190173</td>\n",
              "      <td>0.850490</td>\n",
              "      <td>0.296053</td>\n",
              "      <td>1.000000</td>\n",
              "    </tr>\n",
              "  </tbody>\n",
              "</table>\n",
              "</div>"
            ],
            "text/plain": [
              "                         userid       age  ...  www_likes  www_likes_received\n",
              "userid                 1.000000 -0.007265  ...   0.001828            0.001074\n",
              "age                   -0.007265  1.000000  ...   0.015585           -0.018224\n",
              "dob_day               -0.000839  0.035035  ...   0.009353            0.002460\n",
              "dob_year               0.007265 -1.000000  ...  -0.015585            0.018224\n",
              "dob_month              0.002924  0.025167  ...   0.012136            0.006003\n",
              "tenure                -0.003446  0.462742  ...   0.070757            0.030553\n",
              "friend_count          -0.001314 -0.027407  ...   0.229803            0.220727\n",
              "friendships_initiated -0.001591 -0.058059  ...   0.214022            0.161439\n",
              "likes                 -0.002875 -0.013009  ...   0.644960            0.295687\n",
              "likes_received         0.001526 -0.022570  ...   0.255365            0.947990\n",
              "mobile_likes          -0.004868 -0.026715  ...   0.187619            0.190173\n",
              "mobile_likes_received  0.001753 -0.024248  ...   0.209997            0.850490\n",
              "www_likes              0.001828  0.015585  ...   1.000000            0.296053\n",
              "www_likes_received     0.001074 -0.018224  ...   0.296053            1.000000\n",
              "\n",
              "[14 rows x 14 columns]"
            ]
          },
          "metadata": {},
          "execution_count": 10
        }
      ]
    },
    {
      "cell_type": "code",
      "metadata": {
        "colab": {
          "base_uri": "https://localhost:8080/",
          "height": 494
        },
        "id": "QNQBmFlVTgHx",
        "outputId": "9ac0b3e0-fe47-4a82-a901-e4e4fe6cc464"
      },
      "source": [
        "plt.figure(figsize=(12,6))\n",
        "sns.heatmap(data=data.corr(), annot=True, cmap='rocket_r')"
      ],
      "execution_count": null,
      "outputs": [
        {
          "output_type": "execute_result",
          "data": {
            "text/plain": [
              "<matplotlib.axes._subplots.AxesSubplot at 0x7fd2e45dd910>"
            ]
          },
          "metadata": {},
          "execution_count": 11
        },
        {
          "output_type": "display_data",
          "data": {
            "image/png": "[encoded data removed]",
            "text/plain": [
              "<Figure size 864x432 with 2 Axes>"
            ]
          },
          "metadata": {
            "needs_background": "light"
          }
        }
      ]
    },
    {
      "cell_type": "markdown",
      "metadata": {
        "id": "RsB9mJ0B3tSs"
      },
      "source": [
        "\n",
        "**Positive correlation**\n",
        "\n",
        "- Age and tenure \n",
        "\n",
        "- Friend count and tenure\n",
        "\n",
        "- Friendships initiated and friend count\n",
        "\n",
        "- Likes given and received i.e, mobile vs web"
      ]
    },
    {
      "cell_type": "markdown",
      "metadata": {
        "id": "efZ8svauqc55"
      },
      "source": [
        "---\n",
        "<a name = Section5></a>\n",
        "# **5. Data Pre-Profiling**\n",
        "---\n",
        "\n",
        "- Perform pandas profiling and get a report with some observations about the data."
      ]
    },
    {
      "cell_type": "code",
      "metadata": {
        "id": "VEHxAq8Zqcgo",
        "colab": {
          "base_uri": "https://localhost:8080/",
          "height": 145,
          "referenced_widgets": [
            "09cc64625bdb49318904ecde07e5043b",
            "12adacdd382e448b97ccebed060de7f6",
            "5d19ea5a468e42258f95a1e6e9630688",
            "a3177752b4214abd8adaf9b7e4e92de2",
            "52f915a551634c7abd24e134b374d8de",
            "fe2cc7e1a5e24250ad28e3a70a14af5f",
            "79032ac14e0b4613821f2c1fed172026",
            "0bb78b79c8e745a8a12615fd087e636d",
            "ad76ce1d1ab846a09ec078dc7e16af3a",
            "b8b6e0e1f76947529f9eb610c58972d9",
            "663bdb9b285f4cac9c8021e79c65d5e2",
            "53c1122108214660a84296bd85dbd536",
            "df8127f7f3874f48a9b47235d8b761b9",
            "f04cbc1e270c4c6ca4bb4c4e0a3096b6",
            "d6cdea669e174c40bc1a21dd1a6a0010",
            "762ce56aa6c7489d81a3f3c6ccac80c5",
            "8951961e4e2c4870bc4ac1902ffce57a",
            "cbec3d81d08a49c0a845f701fd03c198",
            "64145676604b47dc86b6e24e970e56bc",
            "f0bdcdf0fc414254af8d0c31971b5cd3",
            "70e19e9d34cd4ca48544c7f34263c58f",
            "69e63891392a4e60948bffe78dc37ffd",
            "06e520fa03b04bea82e94e6d7f3f8adb",
            "b2bf1c8278614f83ae4cfa28d40ae8a2",
            "3695baa9cddf4e178319aaf78740c43d",
            "86027e1351094276bbdaa5dc5ea0c593",
            "594ebed1b37c4b45bdf9c6b6bed61e6a",
            "f877ba7595304e3f8411c5587bc378d4",
            "7c80684088d54f5b9f671f559233fd8a",
            "e875f4aa9c2a488fbd1af47013685049",
            "7bce2d8660dc4b82bacda48d2d5b3129",
            "f729d03f3eea4d7bb157fb85e64fc68f",
            "cf16a6d33260475ebf3b0e44bc6934e7",
            "79825979aa184bf7afc2509d4b7d4ea3",
            "e616cb4df9bf489a94490f1bc39f2ff5",
            "47cfb9a5e1f04f3d80ce0289c6adb1b2",
            "e082e4fd00014bfe984d14bafe7f07a5",
            "0240cb6c68334f0e921204e58e3dd2c2",
            "f715350fea614b8896451c59cea6bb72",
            "6c5a7f2bcae148b995b9a944c94c3733",
            "c4ce023a41594f7d99b36ec68a6555aa",
            "6730c2df37cc4cc1b4782354d7884747",
            "b22e4a3e1a244fe5b28faf1e7af86b5b",
            "5d4b7c05b9204770b28102d6f8b617dc"
          ]
        },
        "outputId": "772c0a08-8182-45e2-d467-812cf0354fa1"
      },
      "source": [
        "profile = ProfileReport(df = data)\n",
        "profile.to_file(output_file = 'Pre Profiling Report.html')"
      ],
      "execution_count": null,
      "outputs": [
        {
          "output_type": "display_data",
          "data": {
            "application/vnd.jupyter.widget-view+json": {
              "model_id": "09cc64625bdb49318904ecde07e5043b",
              "version_minor": 0,
              "version_major": 2
            },
            "text/plain": [
              "Summarize dataset:   0%|          | 0/5 [00:00<?, ?it/s]"
            ]
          },
          "metadata": {}
        },
        {
          "output_type": "display_data",
          "data": {
            "application/vnd.jupyter.widget-view+json": {
              "model_id": "53c1122108214660a84296bd85dbd536",
              "version_minor": 0,
              "version_major": 2
            },
            "text/plain": [
              "Generate report structure:   0%|          | 0/1 [00:00<?, ?it/s]"
            ]
          },
          "metadata": {}
        },
        {
          "output_type": "display_data",
          "data": {
            "application/vnd.jupyter.widget-view+json": {
              "model_id": "06e520fa03b04bea82e94e6d7f3f8adb",
              "version_minor": 0,
              "version_major": 2
            },
            "text/plain": [
              "Render HTML:   0%|          | 0/1 [00:00<?, ?it/s]"
            ]
          },
          "metadata": {}
        },
        {
          "output_type": "display_data",
          "data": {
            "application/vnd.jupyter.widget-view+json": {
              "model_id": "79825979aa184bf7afc2509d4b7d4ea3",
              "version_minor": 0,
              "version_major": 2
            },
            "text/plain": [
              "Export report to file:   0%|          | 0/1 [00:00<?, ?it/s]"
            ]
          },
          "metadata": {}
        }
      ]
    },
    {
      "cell_type": "markdown",
      "metadata": {
        "id": "YMvtK0X-qoe6"
      },
      "source": [
        "---\n",
        "<a name = Section6></a>\n",
        "# **6. Data Pre-Processing**\n",
        "---"
      ]
    },
    {
      "cell_type": "markdown",
      "metadata": {
        "id": "p9ryb8LDwawR"
      },
      "source": [
        "\n",
        " Unnecessary attribute - **userid** has been dropped."
      ]
    },
    {
      "cell_type": "code",
      "metadata": {
        "id": "FxzbSzWDqytZ"
      },
      "source": [
        "data.drop(labels=['userid'], axis=1, inplace=True)"
      ],
      "execution_count": null,
      "outputs": []
    },
    {
      "cell_type": "markdown",
      "metadata": {
        "id": "hkQOaCFswUIm"
      },
      "source": [
        "Handling missing data\n",
        "\n",
        "  - **Gender** - 175\n",
        "\n",
        "  - **Tenure** - 2\n",
        "\n",
        "Null values in **gender** column are replaced with **mode**. In case of categories with few unique variables, most occuring value should be ideal.\n",
        "\n",
        "**Tenure** says about the duration of Facebook usage and hence is replaced with its **median**.\n",
        "  "
      ]
    },
    {
      "cell_type": "code",
      "metadata": {
        "id": "q6O7WsbTnV0A"
      },
      "source": [
        "data['gender'].fillna(data['gender'].mode()[0], inplace=True)\n"
      ],
      "execution_count": null,
      "outputs": []
    },
    {
      "cell_type": "code",
      "metadata": {
        "id": "uQXtcqwVNNLr"
      },
      "source": [
        "data['tenure'].fillna(data['tenure'].median(), inplace=True)"
      ],
      "execution_count": null,
      "outputs": []
    },
    {
      "cell_type": "code",
      "metadata": {
        "colab": {
          "base_uri": "https://localhost:8080/"
        },
        "id": "9DVTGarF2xfI",
        "outputId": "506827ed-0cf0-4846-90c8-cb29684c4253"
      },
      "source": [
        "data.isna().sum()"
      ],
      "execution_count": null,
      "outputs": [
        {
          "output_type": "execute_result",
          "data": {
            "text/plain": [
              "age                      0\n",
              "dob_day                  0\n",
              "dob_year                 0\n",
              "dob_month                0\n",
              "gender                   0\n",
              "tenure                   0\n",
              "friend_count             0\n",
              "friendships_initiated    0\n",
              "likes                    0\n",
              "likes_received           0\n",
              "mobile_likes             0\n",
              "mobile_likes_received    0\n",
              "www_likes                0\n",
              "www_likes_received       0\n",
              "age_group                0\n",
              "dtype: int64"
            ]
          },
          "metadata": {},
          "execution_count": 9
        }
      ]
    },
    {
      "cell_type": "markdown",
      "metadata": {
        "id": "WxlZXWBEw7Pb"
      },
      "source": [
        "Data manipulation over unstructured data - **age**\n",
        "\n",
        "- Age attribute has been categorized further into subgroups for better understanding. "
      ]
    },
    {
      "cell_type": "code",
      "metadata": {
        "colab": {
          "base_uri": "https://localhost:8080/",
          "height": 206
        },
        "id": "jmmJAY_hx5mH",
        "outputId": "88470114-8425-4e8b-abf2-6def7605ec03"
      },
      "source": [
        "conditions = [\n",
        "    (data['age'] <= 20),\n",
        "    (data['age'] > 20) & (data['age'] <= 30),\n",
        "    (data['age'] > 30) & (data['age'] <= 40),\n",
        "    (data['age'] > 40) & (data['age'] <= 50),\n",
        "    (data['age'] > 50) & (data['age'] <= 60),\n",
        "    (data['age'] > 60) & (data['age'] <= 70),\n",
        "    (data['age'] > 70) & (data['age'] <= 80),\n",
        "    (data['age'] > 80) & (data['age'] <= 90),\n",
        "    (data['age'] > 90) & (data['age'] <= 100),\n",
        "    (data['age'] > 100)\n",
        "    ]\n",
        "\n",
        "values = ['< 20', '20 - 30', '30 - 40', '40 - 50', '50 - 60', '60 - 70', '70 - 80', '80 - 90', '90 - 100', '> 100']\n",
        "\n",
        "data['age_group'] = np.select(conditions, values)\n",
        "data[['age_group']].tail()"
      ],
      "execution_count": 5,
      "outputs": [
        {
          "output_type": "execute_result",
          "data": {
            "text/html": [
              "<div>\n",
              "<style scoped>\n",
              "    .dataframe tbody tr th:only-of-type {\n",
              "        vertical-align: middle;\n",
              "    }\n",
              "\n",
              "    .dataframe tbody tr th {\n",
              "        vertical-align: top;\n",
              "    }\n",
              "\n",
              "    .dataframe thead th {\n",
              "        text-align: right;\n",
              "    }\n",
              "</style>\n",
              "<table border=\"1\" class=\"dataframe\">\n",
              "  <thead>\n",
              "    <tr style=\"text-align: right;\">\n",
              "      <th></th>\n",
              "      <th>age_group</th>\n",
              "    </tr>\n",
              "  </thead>\n",
              "  <tbody>\n",
              "    <tr>\n",
              "      <th>98998</th>\n",
              "      <td>60 - 70</td>\n",
              "    </tr>\n",
              "    <tr>\n",
              "      <th>98999</th>\n",
              "      <td>&lt; 20</td>\n",
              "    </tr>\n",
              "    <tr>\n",
              "      <th>99000</th>\n",
              "      <td>&lt; 20</td>\n",
              "    </tr>\n",
              "    <tr>\n",
              "      <th>99001</th>\n",
              "      <td>20 - 30</td>\n",
              "    </tr>\n",
              "    <tr>\n",
              "      <th>99002</th>\n",
              "      <td>30 - 40</td>\n",
              "    </tr>\n",
              "  </tbody>\n",
              "</table>\n",
              "</div>"
            ],
            "text/plain": [
              "      age_group\n",
              "98998   60 - 70\n",
              "98999      < 20\n",
              "99000      < 20\n",
              "99001   20 - 30\n",
              "99002   30 - 40"
            ]
          },
          "metadata": {},
          "execution_count": 5
        }
      ]
    },
    {
      "cell_type": "markdown",
      "metadata": {
        "id": "amsQwri2q1_J"
      },
      "source": [
        "---\n",
        "<a name = Section7></a>\n",
        "# **7. Data Post-Profiling**\n",
        "---\n",
        "\n",
        "- Post profiling generates a report about the data after its manipulation."
      ]
    },
    {
      "cell_type": "code",
      "metadata": {
        "id": "87U7K8sWq1y5",
        "colab": {
          "base_uri": "https://localhost:8080/",
          "height": 145,
          "referenced_widgets": [
            "e5af5976b3c940458a73e99d693fd57e",
            "8e85d931b0894fb6b8d90468509c19a7",
            "35547da175b94ebfa5f61a8d3725ed6d",
            "ca86677b32d043d09e39dd0ae43d80d7",
            "f10bda87fadd4937912a9047b72c5889",
            "259f8fc500ca4aea82ab0d32b9fc8282",
            "88dde1d43dcd438ba633f3db242b5e59",
            "e1a1bb98fa7a4d4c858d38a513964867",
            "f66b99664b3440a1b3b0b19231188abe",
            "7781d5c3a25f41df97d59ab8abfad7b0",
            "3236865eb347463ea4b1c81a905a5a65",
            "fc400d898bb84094be8523ff7906d09a",
            "d51c806c565b47cbbbb26b6146925d7e",
            "136f6e78ec814d65998e20d7e0bae4d6",
            "a402249aa7ca41ea83cbafd8edf10f3c",
            "3f6fd317b5694bd5862f119ba535edd7",
            "349211fe0b464dc195bc7d27ca18920f",
            "a080b554cf354d46b4cd5b1033bea153",
            "c4ba93f469df48ebaa18b6768343fba2",
            "7662706798744a1aa973e3b0c284a04f",
            "1b3ae875007e40a68b78f485b8f5043c",
            "782614fecfcc43b9a70708995b1bb483",
            "5748d8c50fb84f15bcaf195fa817b986",
            "9ded422bca8d45f9a2bb302edae3cfa6",
            "3510554328cc4e80bbb26d80dc04dec1",
            "c7e0d0f1b7494751b077498caf618b08",
            "536af0483a1f4863a349aac7cc8abeba",
            "04b6930bd15445dd84fcb4de30c40cf2",
            "2271b90e95a94944b5e05f055c45ec49",
            "3b9eb48878324dcc87e3e00bca53cbaa",
            "a2acce2b822d470ebeb4987ba356b3a2",
            "88d3de8bd2324c52acaba4ab4280a07e",
            "fbed8382448047248b558e882c113f8e",
            "0ac3d816422a4cfabb7e8a89ebafc462",
            "70ba207a43e24a0a8f7ef47b2c5d3cea",
            "2e0552c8aea94d64b20568f4bc20a4ea",
            "3ecb08d227ff4efd88503c85bc5b5836",
            "1c55ae5e4f684de898d3c0e68a878e16",
            "c5207f0aab6f4853b003f105d2e04179",
            "95a3cc1bda9d4619bd14d7c6aedd4da3",
            "59193d832503483cadad98b08df1cf44",
            "ac00bd2ce9214ea99d8efae6f1b52e38",
            "e63f3668292e471c9baee9972de1ebc6",
            "d9e1eb4059c542ab83eb97c8bd5aa1f2"
          ]
        },
        "outputId": "4fd215ca-b725-41aa-ffaf-b95fee20f310"
      },
      "source": [
        "profile = ProfileReport(df = data)\n",
        "profile.to_file(output_file = 'Post Profiling Report.html')"
      ],
      "execution_count": null,
      "outputs": [
        {
          "output_type": "display_data",
          "data": {
            "application/vnd.jupyter.widget-view+json": {
              "model_id": "e5af5976b3c940458a73e99d693fd57e",
              "version_minor": 0,
              "version_major": 2
            },
            "text/plain": [
              "Summarize dataset:   0%|          | 0/5 [00:00<?, ?it/s]"
            ]
          },
          "metadata": {}
        },
        {
          "output_type": "display_data",
          "data": {
            "application/vnd.jupyter.widget-view+json": {
              "model_id": "fc400d898bb84094be8523ff7906d09a",
              "version_minor": 0,
              "version_major": 2
            },
            "text/plain": [
              "Generate report structure:   0%|          | 0/1 [00:00<?, ?it/s]"
            ]
          },
          "metadata": {}
        },
        {
          "output_type": "display_data",
          "data": {
            "application/vnd.jupyter.widget-view+json": {
              "model_id": "5748d8c50fb84f15bcaf195fa817b986",
              "version_minor": 0,
              "version_major": 2
            },
            "text/plain": [
              "Render HTML:   0%|          | 0/1 [00:00<?, ?it/s]"
            ]
          },
          "metadata": {}
        },
        {
          "output_type": "display_data",
          "data": {
            "application/vnd.jupyter.widget-view+json": {
              "model_id": "0ac3d816422a4cfabb7e8a89ebafc462",
              "version_minor": 0,
              "version_major": 2
            },
            "text/plain": [
              "Export report to file:   0%|          | 0/1 [00:00<?, ?it/s]"
            ]
          },
          "metadata": {}
        }
      ]
    },
    {
      "cell_type": "markdown",
      "metadata": {
        "id": "taDvvLa9q-5p"
      },
      "source": [
        "---\n",
        "<a name = Section8></a>\n",
        "# **8. Exploratory Data Analysis**\n",
        "---\n",
        "It is all about questions and answering them in the process of performing investigations on data in order to discover patterns, spot anomalies and to check assumptions with the help of and graphical representations."
      ]
    },
    {
      "cell_type": "markdown",
      "metadata": {
        "id": "cHlkRG_Sw1RK"
      },
      "source": [
        "### **Users - Age Group**"
      ]
    },
    {
      "cell_type": "code",
      "metadata": {
        "colab": {
          "base_uri": "https://localhost:8080/",
          "height": 522
        },
        "id": "gwf5ukX3K2QD",
        "outputId": "a7a239a8-06b6-4648-a88b-6b9431329683"
      },
      "source": [
        "plt.figure(figsize=(12,7))\n",
        "plt.xticks(size=12)\n",
        "plt.yticks(size=12)\n",
        "plt.xlabel(xlabel='age_group', size=14)\n",
        "plt.ylabel(ylabel='count', size=14)\n",
        "plt.title(label='Age Group  vs  User Count', size=16)\n",
        "color=sns.color_palette('deep')\n",
        "data.age_group.value_counts().plot.bar(color=color)"
      ],
      "execution_count": null,
      "outputs": [
        {
          "output_type": "execute_result",
          "data": {
            "text/plain": [
              "<matplotlib.axes._subplots.AxesSubplot at 0x7f747eec9610>"
            ]
          },
          "metadata": {},
          "execution_count": 69
        },
        {
          "output_type": "display_data",
          "data": {
            "image/png": "[encoded data removed]",
            "text/plain": [
              "<Figure size 864x504 with 1 Axes>"
            ]
          },
          "metadata": {
            "needs_background": "light"
          }
        }
      ]
    },
    {
      "cell_type": "markdown",
      "metadata": {
        "id": "ZvCxFozlL8NE"
      },
      "source": [
        "#### **Observation**\n",
        "\n",
        "- People in the **age group** of **20-30** are heavy users of Facebook."
      ]
    },
    {
      "cell_type": "markdown",
      "metadata": {
        "id": "BJ31MPUQSVsb"
      },
      "source": [
        "### **Most birthdays on 1st of January**"
      ]
    },
    {
      "cell_type": "code",
      "metadata": {
        "colab": {
          "base_uri": "https://localhost:8080/"
        },
        "id": "jmRPA5ckJNZx",
        "outputId": "d0a8b805-144e-4dd8-b56b-d4b3ce2b5fe2"
      },
      "source": [
        "col = [\"dob_day\",\"dob_month\"]\n",
        "data['date'] = data[col].apply(lambda x: '/'.join(x.values.astype(str)), axis=\"columns\")\n",
        "date_count = data.pivot_table(index = ['date'], aggfunc ='size')\n",
        "date_count"
      ],
      "execution_count": null,
      "outputs": [
        {
          "output_type": "execute_result",
          "data": {
            "text/plain": [
              "date\n",
              "1/1     4032\n",
              "1/10     335\n",
              "1/11     306\n",
              "1/12     327\n",
              "1/2      426\n",
              "        ... \n",
              "9/5      233\n",
              "9/6      262\n",
              "9/7      261\n",
              "9/8      250\n",
              "9/9      342\n",
              "Length: 366, dtype: int64"
            ]
          },
          "metadata": {},
          "execution_count": 32
        }
      ]
    },
    {
      "cell_type": "code",
      "metadata": {
        "colab": {
          "base_uri": "https://localhost:8080/",
          "height": 486
        },
        "id": "ir-XJTpByq88",
        "outputId": "81e93792-7c33-47bb-b165-bedd0ec6220c"
      },
      "source": [
        "plt.figure(figsize=(12,7))\n",
        "plt.xlabel('dob_day', size=14)\n",
        "plt.ylabel('user_count', size=14)\n",
        "plt.title('Birth Date vs No. of Users', size=16)\n",
        "plt.xticks(ticks=np.arange(1,32), size=12)\n",
        "plt.yticks(size=12)\n",
        "sns.histplot(data=data, x='dob_day', bins=31, color='#FF82AB', legend='full')"
      ],
      "execution_count": null,
      "outputs": [
        {
          "output_type": "execute_result",
          "data": {
            "text/plain": [
              "<matplotlib.axes._subplots.AxesSubplot at 0x7fccfb777810>"
            ]
          },
          "metadata": {},
          "execution_count": 5
        },
        {
          "output_type": "display_data",
          "data": {
            "image/png": "[encoded data removed]",
            "text/plain": [
              "<Figure size 864x504 with 1 Axes>"
            ]
          },
          "metadata": {
            "needs_background": "light"
          }
        }
      ]
    },
    {
      "cell_type": "markdown",
      "metadata": {
        "id": "7blB95OkhDto"
      },
      "source": [
        "#### **Observation**\n",
        "\n",
        "- Many people have set their birthdays to 1st of January by default.\n",
        "- Data could be unreal."
      ]
    },
    {
      "cell_type": "markdown",
      "metadata": {
        "id": "Mnk8tMGzTNz3"
      },
      "source": [
        "### **Users - Gender**"
      ]
    },
    {
      "cell_type": "code",
      "metadata": {
        "colab": {
          "base_uri": "https://localhost:8080/"
        },
        "id": "2UpXlcGZ4exX",
        "outputId": "c94064fd-25ad-4043-9f0c-36a71e81a89e"
      },
      "source": [
        "data['gender'].value_counts()"
      ],
      "execution_count": null,
      "outputs": [
        {
          "output_type": "execute_result",
          "data": {
            "text/plain": [
              "male      58749\n",
              "female    40254\n",
              "Name: gender, dtype: int64"
            ]
          },
          "metadata": {},
          "execution_count": 45
        }
      ]
    },
    {
      "cell_type": "code",
      "metadata": {
        "colab": {
          "base_uri": "https://localhost:8080/",
          "height": 266
        },
        "id": "M5MTAbIlAZ7M",
        "outputId": "326f8b0a-712d-42e7-d870-071c48c911c2"
      },
      "source": [
        "plt.ylabel(ylabel='gender', size=14)\n",
        "data.gender.value_counts().plot(kind = 'pie', cmap='tab20', fontsize=14, shadow = True,  autopct='%2f%%')"
      ],
      "execution_count": null,
      "outputs": [
        {
          "output_type": "execute_result",
          "data": {
            "text/plain": [
              "<matplotlib.axes._subplots.AxesSubplot at 0x7f37edc5a150>"
            ]
          },
          "metadata": {},
          "execution_count": 88
        },
        {
          "output_type": "display_data",
          "data": {
            "image/png": "[encoded data removed]",
            "text/plain": [
              "<Figure size 432x288 with 1 Axes>"
            ]
          },
          "metadata": {}
        }
      ]
    },
    {
      "cell_type": "markdown",
      "metadata": {
        "id": "E-zPx3dSPnaN"
      },
      "source": [
        "#### **Observation**\n",
        "\n",
        "- There are **20%** more **male** users as compared to females."
      ]
    },
    {
      "cell_type": "markdown",
      "metadata": {
        "id": "PcBmZVBwgDLE"
      },
      "source": [
        "### **Gender vs Tenure**"
      ]
    },
    {
      "cell_type": "code",
      "metadata": {
        "colab": {
          "base_uri": "https://localhost:8080/"
        },
        "id": "t37Fuq4uE7G_",
        "outputId": "d36ef3b7-9bb0-4940-f99f-db9164d3fdc4"
      },
      "source": [
        "data.groupby('gender').tenure.sum()"
      ],
      "execution_count": null,
      "outputs": [
        {
          "output_type": "execute_result",
          "data": {
            "text/plain": [
              "gender\n",
              "female    23637151.0\n",
              "male      29298972.0\n",
              "Name: tenure, dtype: float64"
            ]
          },
          "metadata": {},
          "execution_count": 89
        }
      ]
    },
    {
      "cell_type": "code",
      "metadata": {
        "colab": {
          "base_uri": "https://localhost:8080/",
          "height": 502
        },
        "id": "Dx5R83rxefF7",
        "outputId": "cd86d8e2-7198-4f2c-dc72-096e6dd4dc6c"
      },
      "source": [
        "plt.figure(figsize=(12,7))\n",
        "sns.violinplot(x='gender', y='tenure', data=data, palette='magma')\n",
        "plt.xlabel('gender', size=14)\n",
        "plt.ylabel('tenure', size=14)\n",
        "plt.title('Gender vs Tenure', size=16)\n",
        "plt.xticks(size=12)\n",
        "plt.yticks(size=12)"
      ],
      "execution_count": 32,
      "outputs": [
        {
          "output_type": "execute_result",
          "data": {
            "text/plain": [
              "(array([-500.,    0.,  500., 1000., 1500., 2000., 2500., 3000., 3500.]),\n",
              " <a list of 9 Text major ticklabel objects>)"
            ]
          },
          "metadata": {},
          "execution_count": 32
        },
        {
          "output_type": "display_data",
          "data": {
            "image/png": "[encoded data removed]",
            "text/plain": [
              "<Figure size 864x504 with 1 Axes>"
            ]
          },
          "metadata": {
            "needs_background": "light"
          }
        }
      ]
    },
    {
      "cell_type": "markdown",
      "metadata": {
        "id": "no2AvaCjgQIO"
      },
      "source": [
        "#### **Observation**\n",
        "\n",
        "- Men have been using Facebook for a longer duration than women.\n",
        "\n",
        "- The maximum users' tenure is less than a year."
      ]
    },
    {
      "cell_type": "markdown",
      "metadata": {
        "id": "cYYF2sucTwpJ"
      },
      "source": [
        "### **Gender vs Friend count**"
      ]
    },
    {
      "cell_type": "code",
      "metadata": {
        "colab": {
          "base_uri": "https://localhost:8080/"
        },
        "id": "Am0KyJPuT8OO",
        "outputId": "ddc9f46c-d7ff-46ae-a99f-2bb1908013d7"
      },
      "source": [
        "data.groupby('gender').friend_count.sum()"
      ],
      "execution_count": null,
      "outputs": [
        {
          "output_type": "stream",
          "name": "stdout",
          "text": [
            "gender\n",
            "female    9740258\n",
            "male      9699059\n",
            "Name: friend_count, dtype: int64\n"
          ]
        }
      ]
    },
    {
      "cell_type": "code",
      "metadata": {
        "colab": {
          "base_uri": "https://localhost:8080/",
          "height": 502
        },
        "id": "meqydgN0JDwm",
        "outputId": "37585cd4-7761-44a2-defa-e8de79263f19"
      },
      "source": [
        "plt.figure(figsize=(9,7))\n",
        "sns.boxplot(data=data,x='gender',y='friend_count')\n",
        "plt.ylim((0,1000))\n",
        "plt.title('Gender vs Friends Count', size =16)\n",
        "plt.xlabel('gender', size=14)\n",
        "plt.ylabel('friend_countS', size=14)\n",
        "plt.xticks(size=12)\n",
        "plt.yticks(size=12)"
      ],
      "execution_count": 33,
      "outputs": [
        {
          "output_type": "execute_result",
          "data": {
            "text/plain": [
              "(array([   0.,  200.,  400.,  600.,  800., 1000.]),\n",
              " <a list of 6 Text major ticklabel objects>)"
            ]
          },
          "metadata": {},
          "execution_count": 33
        },
        {
          "output_type": "display_data",
          "data": {
            "image/png": "[encoded data removed]",
            "text/plain": [
              "<Figure size 648x504 with 1 Axes>"
            ]
          },
          "metadata": {
            "needs_background": "light"
          }
        }
      ]
    },
    {
      "cell_type": "markdown",
      "metadata": {
        "id": "RttMy4TAZ7HJ"
      },
      "source": [
        "#### **Observation**\n",
        "\n",
        "- Females have more friends than males in all cases."
      ]
    },
    {
      "cell_type": "markdown",
      "metadata": {
        "id": "PLBxLJo_aLfs"
      },
      "source": [
        "### **Trends in Friendships and Likes based on Age Group**"
      ]
    },
    {
      "cell_type": "code",
      "metadata": {
        "colab": {
          "base_uri": "https://localhost:8080/",
          "height": 484
        },
        "id": "RaxdIoPymD4h",
        "outputId": "bd9b1e63-e936-4610-a1a5-465037a96693"
      },
      "source": [
        "plt.figure(figsize=(12,7))\n",
        "plt.legend(labels=('likes','likes_received','friend_count','friendships_initiated'),fontsize=12)\n",
        "data.groupby(by=['age_group'])['likes'].mean().plot.line(color='red',legend=True)\n",
        "data.groupby(by=['age_group'])['likes_received'].mean().plot.line(color='green',legend=True)\n",
        "data.groupby(by=['age_group'])['friend_count'].mean().plot.line(color='purple',legend=True)\n",
        "data.groupby(by=['age_group'])['friendships_initiated'].mean().plot.line(color='blue',legend=True)\n",
        "plt.xlabel('age_group', size=14)\n",
        "plt.xticks(size=12)\n",
        "plt.yticks(size=12)"
      ],
      "execution_count": 35,
      "outputs": [
        {
          "output_type": "execute_result",
          "data": {
            "text/plain": [
              "(array([  0.,  50., 100., 150., 200., 250., 300., 350., 400., 450.]),\n",
              " <a list of 10 Text major ticklabel objects>)"
            ]
          },
          "metadata": {},
          "execution_count": 35
        },
        {
          "output_type": "display_data",
          "data": {
            "image/png": "[encoded data removed]",
            "text/plain": [
              "<Figure size 864x504 with 1 Axes>"
            ]
          },
          "metadata": {
            "needs_background": "light"
          }
        }
      ]
    },
    {
      "cell_type": "markdown",
      "metadata": {
        "id": "FD1g4r5MbIUW"
      },
      "source": [
        "#### **Observation**\n",
        "\n",
        "- The number of friends, friendships, likes given and received by teenagers are more than any other age group of people"
      ]
    },
    {
      "cell_type": "markdown",
      "metadata": {
        "id": "ila0deoLTYuU"
      },
      "source": [
        "### **Gender vs Friendship Initiated**"
      ]
    },
    {
      "cell_type": "code",
      "metadata": {
        "colab": {
          "base_uri": "https://localhost:8080/"
        },
        "id": "fx6VClaN-LU1",
        "outputId": "341782c9-5965-4d1b-d155-9e313e8255af"
      },
      "source": [
        "data.groupby('gender').friendships_initiated.sum()"
      ],
      "execution_count": null,
      "outputs": [
        {
          "output_type": "execute_result",
          "data": {
            "text/plain": [
              "gender\n",
              "female    4584894\n",
              "male      6037023\n",
              "Name: friendships_initiated, dtype: int64"
            ]
          },
          "metadata": {},
          "execution_count": 62
        }
      ]
    },
    {
      "cell_type": "code",
      "metadata": {
        "colab": {
          "base_uri": "https://localhost:8080/",
          "height": 266
        },
        "id": "e83eItZ39NIh",
        "outputId": "a89e5596-9bd8-4fe4-ce97-0c747d8eb806"
      },
      "source": [
        "plt.ylabel(ylabel='friendships_initiated', size=14)\n",
        "my_colors2 = ['#9BCD9B','#698B69']\n",
        "data.groupby('gender').friendships_initiated.sum().plot.pie(colors=my_colors2, shadow = True, fontsize=14, autopct='%2f%%')"
      ],
      "execution_count": 3,
      "outputs": [
        {
          "output_type": "execute_result",
          "data": {
            "text/plain": [
              "<matplotlib.axes._subplots.AxesSubplot at 0x7ff03dec5350>"
            ]
          },
          "metadata": {},
          "execution_count": 3
        },
        {
          "output_type": "display_data",
          "data": {
            "image/png": "[encoded data removed]",
            "text/plain": [
              "<Figure size 432x288 with 1 Axes>"
            ]
          },
          "metadata": {}
        }
      ]
    },
    {
      "cell_type": "markdown",
      "metadata": {
        "id": "SXsvCaIRZVVO"
      },
      "source": [
        "#### **Observation**\n",
        "\n",
        "- Men are 15% more likely to initiate friendships than women."
      ]
    },
    {
      "cell_type": "markdown",
      "metadata": {
        "id": "Gvu3T5hoRM9p"
      },
      "source": [
        "### **Mobile vs Web usage based on Age group**"
      ]
    },
    {
      "cell_type": "code",
      "metadata": {
        "colab": {
          "base_uri": "https://localhost:8080/",
          "height": 522
        },
        "id": "Xrjew_cSS0d1",
        "outputId": "53e68ba3-0ed1-4e65-e7d4-1e2047775433"
      },
      "source": [
        "plt.figure(figsize=(12,7))\n",
        "plt.xticks(size=12)\n",
        "plt.yticks(size=12)\n",
        "plt.xlabel('age_group',size=14)\n",
        "plt.ylabel('count', size=14)\n",
        "plt.title('Mobile vs Www', size=16)\n",
        "data['mobile']= data['mobile_likes']+data['mobile_likes_received']\n",
        "data['www']= data['www_likes']+data['www_likes_received']\n",
        "data.groupby(by=['age_group'])['mobile'].mean().plot.bar(color='#347593', legend=True)\n",
        "data.groupby(by=['age_group'])['www'].mean().plot.bar(color='#363552',legend=True)"
      ],
      "execution_count": 38,
      "outputs": [
        {
          "output_type": "execute_result",
          "data": {
            "text/plain": [
              "<matplotlib.axes._subplots.AxesSubplot at 0x7ff03ac72a50>"
            ]
          },
          "metadata": {},
          "execution_count": 38
        },
        {
          "output_type": "display_data",
          "data": {
            "image/png": "[encoded data removed]",
            "text/plain": [
              "<Figure size 864x504 with 1 Axes>"
            ]
          },
          "metadata": {
            "needs_background": "light"
          }
        }
      ]
    },
    {
      "cell_type": "markdown",
      "metadata": {
        "id": "SsBsm-uzj7oN"
      },
      "source": [
        "#### **Observation**\n",
        "\n",
        "- It can be observed that users of all age groups prefer to use Facebook on their mobile than on web.\n",
        "\n",
        "- Also people under 20 are most active in terms of likes and likes received."
      ]
    },
    {
      "cell_type": "markdown",
      "metadata": {
        "id": "AsMgpZ9QneND"
      },
      "source": [
        "### **Age Group vs Likes Received based on Gender**"
      ]
    },
    {
      "cell_type": "code",
      "metadata": {
        "colab": {
          "base_uri": "https://localhost:8080/",
          "height": 557
        },
        "id": "dbyzJxUYF00d",
        "outputId": "ab0ba1ed-9668-4657-dc83-789e26ef7407"
      },
      "source": [
        "plt.figure(figsize=(18,8))\n",
        "plt.xlabel('age_group', size=14)\n",
        "plt.ylabel('likes_received', size=14)\n",
        "plt.title('Age vs Likes Received, By Gender', size=16)\n",
        "sns.barplot(x='age_group', y='likes_received', hue='gender', data=data, palette='rocket')\n",
        "plt.xticks(size=12)\n",
        "plt.yticks(size=12)"
      ],
      "execution_count": 25,
      "outputs": [
        {
          "output_type": "execute_result",
          "data": {
            "text/plain": [
              "(array([  0., 100., 200., 300., 400., 500., 600.]),\n",
              " <a list of 7 Text major ticklabel objects>)"
            ]
          },
          "metadata": {},
          "execution_count": 25
        },
        {
          "output_type": "display_data",
          "data": {
            "image/png": "[encoded data removed]",
            "text/plain": [
              "<Figure size 1296x576 with 1 Axes>"
            ]
          },
          "metadata": {
            "needs_background": "light"
          }
        }
      ]
    },
    {
      "cell_type": "markdown",
      "metadata": {
        "id": "kHmT7AT3or5a"
      },
      "source": [
        "#### **Observation**\n",
        "\n",
        "- When users are further studied based on age groups, females in the age group 20 - 30 receive more likes even when compared than men of the same age group.\n"
      ]
    },
    {
      "cell_type": "markdown",
      "metadata": {
        "id": "WgmnI1aUUbZP"
      },
      "source": [
        "### **Identifying Idle Accounts**"
      ]
    },
    {
      "cell_type": "code",
      "metadata": {
        "id": "fwWa_FPerGCB",
        "colab": {
          "base_uri": "https://localhost:8080/",
          "height": 443
        },
        "outputId": "9fc3cc6a-21d6-4ba4-f9b1-b6b37edea44e"
      },
      "source": [
        "find_idle = data.iloc[:,6:]\n",
        "find_idle"
      ],
      "execution_count": null,
      "outputs": [
        {
          "output_type": "execute_result",
          "data": {
            "text/html": [
              "<div>\n",
              "<style scoped>\n",
              "    .dataframe tbody tr th:only-of-type {\n",
              "        vertical-align: middle;\n",
              "    }\n",
              "\n",
              "    .dataframe tbody tr th {\n",
              "        vertical-align: top;\n",
              "    }\n",
              "\n",
              "    .dataframe thead th {\n",
              "        text-align: right;\n",
              "    }\n",
              "</style>\n",
              "<table border=\"1\" class=\"dataframe\">\n",
              "  <thead>\n",
              "    <tr style=\"text-align: right;\">\n",
              "      <th></th>\n",
              "      <th>tenure</th>\n",
              "      <th>friend_count</th>\n",
              "      <th>friendships_initiated</th>\n",
              "      <th>likes</th>\n",
              "      <th>likes_received</th>\n",
              "      <th>mobile_likes</th>\n",
              "      <th>mobile_likes_received</th>\n",
              "      <th>www_likes</th>\n",
              "      <th>www_likes_received</th>\n",
              "      <th>age_group</th>\n",
              "    </tr>\n",
              "  </thead>\n",
              "  <tbody>\n",
              "    <tr>\n",
              "      <th>0</th>\n",
              "      <td>266.0</td>\n",
              "      <td>0</td>\n",
              "      <td>0</td>\n",
              "      <td>0</td>\n",
              "      <td>0</td>\n",
              "      <td>0</td>\n",
              "      <td>0</td>\n",
              "      <td>0</td>\n",
              "      <td>0</td>\n",
              "      <td>&lt; 20</td>\n",
              "    </tr>\n",
              "    <tr>\n",
              "      <th>1</th>\n",
              "      <td>6.0</td>\n",
              "      <td>0</td>\n",
              "      <td>0</td>\n",
              "      <td>0</td>\n",
              "      <td>0</td>\n",
              "      <td>0</td>\n",
              "      <td>0</td>\n",
              "      <td>0</td>\n",
              "      <td>0</td>\n",
              "      <td>&lt; 20</td>\n",
              "    </tr>\n",
              "    <tr>\n",
              "      <th>2</th>\n",
              "      <td>13.0</td>\n",
              "      <td>0</td>\n",
              "      <td>0</td>\n",
              "      <td>0</td>\n",
              "      <td>0</td>\n",
              "      <td>0</td>\n",
              "      <td>0</td>\n",
              "      <td>0</td>\n",
              "      <td>0</td>\n",
              "      <td>&lt; 20</td>\n",
              "    </tr>\n",
              "    <tr>\n",
              "      <th>3</th>\n",
              "      <td>93.0</td>\n",
              "      <td>0</td>\n",
              "      <td>0</td>\n",
              "      <td>0</td>\n",
              "      <td>0</td>\n",
              "      <td>0</td>\n",
              "      <td>0</td>\n",
              "      <td>0</td>\n",
              "      <td>0</td>\n",
              "      <td>&lt; 20</td>\n",
              "    </tr>\n",
              "    <tr>\n",
              "      <th>4</th>\n",
              "      <td>82.0</td>\n",
              "      <td>0</td>\n",
              "      <td>0</td>\n",
              "      <td>0</td>\n",
              "      <td>0</td>\n",
              "      <td>0</td>\n",
              "      <td>0</td>\n",
              "      <td>0</td>\n",
              "      <td>0</td>\n",
              "      <td>&lt; 20</td>\n",
              "    </tr>\n",
              "    <tr>\n",
              "      <th>...</th>\n",
              "      <td>...</td>\n",
              "      <td>...</td>\n",
              "      <td>...</td>\n",
              "      <td>...</td>\n",
              "      <td>...</td>\n",
              "      <td>...</td>\n",
              "      <td>...</td>\n",
              "      <td>...</td>\n",
              "      <td>...</td>\n",
              "      <td>...</td>\n",
              "    </tr>\n",
              "    <tr>\n",
              "      <th>98998</th>\n",
              "      <td>541.0</td>\n",
              "      <td>2118</td>\n",
              "      <td>341</td>\n",
              "      <td>3996</td>\n",
              "      <td>18089</td>\n",
              "      <td>3505</td>\n",
              "      <td>11887</td>\n",
              "      <td>491</td>\n",
              "      <td>6202</td>\n",
              "      <td>60 - 70</td>\n",
              "    </tr>\n",
              "    <tr>\n",
              "      <th>98999</th>\n",
              "      <td>21.0</td>\n",
              "      <td>1968</td>\n",
              "      <td>1720</td>\n",
              "      <td>4401</td>\n",
              "      <td>13412</td>\n",
              "      <td>4399</td>\n",
              "      <td>10592</td>\n",
              "      <td>2</td>\n",
              "      <td>2820</td>\n",
              "      <td>&lt; 20</td>\n",
              "    </tr>\n",
              "    <tr>\n",
              "      <th>99000</th>\n",
              "      <td>111.0</td>\n",
              "      <td>2002</td>\n",
              "      <td>1524</td>\n",
              "      <td>11959</td>\n",
              "      <td>12554</td>\n",
              "      <td>11959</td>\n",
              "      <td>11462</td>\n",
              "      <td>0</td>\n",
              "      <td>1092</td>\n",
              "      <td>&lt; 20</td>\n",
              "    </tr>\n",
              "    <tr>\n",
              "      <th>99001</th>\n",
              "      <td>416.0</td>\n",
              "      <td>2560</td>\n",
              "      <td>185</td>\n",
              "      <td>4506</td>\n",
              "      <td>6516</td>\n",
              "      <td>4506</td>\n",
              "      <td>5760</td>\n",
              "      <td>0</td>\n",
              "      <td>756</td>\n",
              "      <td>20 - 30</td>\n",
              "    </tr>\n",
              "    <tr>\n",
              "      <th>99002</th>\n",
              "      <td>397.0</td>\n",
              "      <td>2049</td>\n",
              "      <td>768</td>\n",
              "      <td>9410</td>\n",
              "      <td>12443</td>\n",
              "      <td>9410</td>\n",
              "      <td>9530</td>\n",
              "      <td>0</td>\n",
              "      <td>2913</td>\n",
              "      <td>30 - 40</td>\n",
              "    </tr>\n",
              "  </tbody>\n",
              "</table>\n",
              "<p>99003 rows × 10 columns</p>\n",
              "</div>"
            ],
            "text/plain": [
              "       tenure  friend_count  ...  www_likes_received  age_group\n",
              "0       266.0             0  ...                   0       < 20\n",
              "1         6.0             0  ...                   0       < 20\n",
              "2        13.0             0  ...                   0       < 20\n",
              "3        93.0             0  ...                   0       < 20\n",
              "4        82.0             0  ...                   0       < 20\n",
              "...       ...           ...  ...                 ...        ...\n",
              "98998   541.0          2118  ...                6202    60 - 70\n",
              "98999    21.0          1968  ...                2820       < 20\n",
              "99000   111.0          2002  ...                1092       < 20\n",
              "99001   416.0          2560  ...                 756    20 - 30\n",
              "99002   397.0          2049  ...                2913    30 - 40\n",
              "\n",
              "[99003 rows x 10 columns]"
            ]
          },
          "metadata": {},
          "execution_count": 75
        }
      ]
    },
    {
      "cell_type": "code",
      "metadata": {
        "colab": {
          "base_uri": "https://localhost:8080/"
        },
        "id": "eOTdNEJ6ZhNj",
        "outputId": "42d0e57a-adc8-4432-9f3b-4708c8f3fd83"
      },
      "source": [
        "idle_accounts = find_idle[(find_idle['friend_count'] == 0) & (find_idle['friendships_initiated'] == 0) & (find_idle['likes'] == 0) & (find_idle['likes_received'] == 0) & (find_idle['mobile_likes'] == 0) & (find_idle['mobile_likes_received'] == 0) & (find_idle['www_likes'] == 0) & (find_idle['www_likes_received'] == 0)].shape\n",
        "idle_accounts"
      ],
      "execution_count": null,
      "outputs": [
        {
          "output_type": "execute_result",
          "data": {
            "text/plain": [
              "(1664, 10)"
            ]
          },
          "metadata": {},
          "execution_count": 77
        }
      ]
    },
    {
      "cell_type": "code",
      "metadata": {
        "colab": {
          "base_uri": "https://localhost:8080/"
        },
        "id": "Fxo79L-p0t0s",
        "outputId": "1a320f13-89b0-433b-ecdb-b9f8e7c9180b"
      },
      "source": [
        "idle = find_idle[(find_idle['tenure'] == 0) & (find_idle['friend_count'] == 0) & (find_idle['friendships_initiated'] == 0) & (find_idle['likes'] == 0) & (find_idle['likes_received'] == 0) & (find_idle['mobile_likes'] == 0) & (find_idle['mobile_likes_received'] == 0) & (find_idle['www_likes'] == 0) & (find_idle['www_likes_received'] == 0)].shape\n",
        "idle"
      ],
      "execution_count": null,
      "outputs": [
        {
          "output_type": "execute_result",
          "data": {
            "text/plain": [
              "(33, 10)"
            ]
          },
          "metadata": {},
          "execution_count": 76
        }
      ]
    },
    {
      "cell_type": "markdown",
      "metadata": {
        "id": "HyfpCU5SU6Wf"
      },
      "source": [
        "#### **Observation**\n",
        "\n",
        "- Identified 1664 accounts, without initiating friendships & friend count is zero.\n",
        "\n",
        "- No likes given or received but have been in use for some duration\n",
        "\n",
        "- Out of this, 33 accounts left inactive by users right after creation."
      ]
    },
    {
      "cell_type": "markdown",
      "metadata": {
        "id": "UzJ_vbWcU7JH"
      },
      "source": [
        "### **Friend Count vs Tenure - Gender**"
      ]
    },
    {
      "cell_type": "code",
      "metadata": {
        "colab": {
          "base_uri": "https://localhost:8080/",
          "height": 538
        },
        "id": "phACs9Vmi2t5",
        "outputId": "9dd2358c-dcf6-46cd-f342-e3b463fbcf91"
      },
      "source": [
        "plt.figure(figsize=(15,8))\n",
        "#plt.ylim(0,12000)\n",
        "plt.xlabel('friend_count', size=14)\n",
        "plt.ylabel('tenure', size=14)\n",
        "sns.scatterplot(x='friend_count', y='tenure', hue='gender', data=data, palette=['orange','red'])\n",
        "plt.xticks(size=12)\n",
        "plt.yticks(size=12)"
      ],
      "execution_count": 39,
      "outputs": [
        {
          "output_type": "execute_result",
          "data": {
            "text/plain": [
              "(array([-500.,    0.,  500., 1000., 1500., 2000., 2500., 3000., 3500.]),\n",
              " <a list of 9 Text major ticklabel objects>)"
            ]
          },
          "metadata": {},
          "execution_count": 39
        },
        {
          "output_type": "display_data",
          "data": {
            "image/png": "[encoded data removed]",
            "text/plain": [
              "<Figure size 1080x576 with 1 Axes>"
            ]
          },
          "metadata": {
            "needs_background": "light"
          }
        }
      ]
    },
    {
      "cell_type": "markdown",
      "metadata": {
        "id": "NDMCAomfU8yN"
      },
      "source": [
        " #### **Observation**\n",
        " \n",
        " - Female are using for a longer duration.\n",
        "\n",
        " - Friend count does not depend upon tenure.\n",
        "\n",
        " - Women have made more friends than men in short period of time."
      ]
    },
    {
      "cell_type": "markdown",
      "metadata": {
        "id": "Pqk4cV2wrIIZ"
      },
      "source": [
        "---\n",
        "<a name = Section9></a>\n",
        "# **9. Summarization**\n",
        "---"
      ]
    },
    {
      "cell_type": "markdown",
      "metadata": {
        "id": "wducAS9QrPfZ"
      },
      "source": [
        "<a name = Section91></a>\n",
        "### **9.1 Conclusion**\n",
        "\n",
        "- Age group of 20 - 30  are most active on Facebook.\n",
        "\n",
        "- There are more male users than females.\n",
        "- Users prefer to use mobile more then web irrespective of age.\n",
        "- Women especially in age group 20-30 receive more likes on posts than men.\n",
        "- Men initiate more friendships than women.\n",
        "- Females have made more friends than male in short period of time.\n",
        "- 1664 users have almost idle accounts, 33 completely not used."
      ]
    },
    {
      "cell_type": "markdown",
      "metadata": {
        "id": "z3MtiiACrVJq"
      },
      "source": [
        "<a name = Section92></a>\n",
        "### **9.2 Actionable Insights**\n",
        "\n",
        "- Providing content for all age groups to increase overall user engagement.\n",
        "\n",
        "- Advertising female oriented products can help increase the count.\n",
        "- Since all age groups prefer mobile usage, improve mobile application and keep it user friendly all the time.\n",
        "- Introduce gaming to keep users connected.\n",
        "- Suggestion of people  who share a common interest or passion.\n"
      ]
    }
  ]
}